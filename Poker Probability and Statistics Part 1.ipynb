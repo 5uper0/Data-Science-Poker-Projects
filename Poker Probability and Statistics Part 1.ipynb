{
 "cells": [
  {
   "cell_type": "markdown",
   "metadata": {},
   "source": [
    "# Poker Probability and Statistics\n",
    "\n",
    "For several years, beginning in 2010 I made a living playing online poker professionally. Data Science was a natural progression for me as it requires a similar skill-set as earning a profit at online poker.  I wrote a blog about [what data analysis has in common with poker](https://medium.springboard.com/how-i-used-professional-poker-to-become-a-data-scientist-e49b75dfe8e3), and I mentioned that each time a poker hand is played at an online poker site, a hand history is generated that explains everything that each player did during the hand. I used software called [Hold’em Manager](https://holdemmanager.com/?a_aid=sharpdata) (think Tableau for poker), which downloads each of these hand histories in real time to a PostgreSQL database so you can keep track of your opponent’s tendencies. \n",
    "\n",
    "In the business world, Data Science is used to make predictions and optimize decisions by creating machine learning models. In online poker, the decision that needs to be made is whether to bet, call, or fold, but you aren’t allowed to use software to make that decision for you. At most online poker sites, that is where the line is drawn in the rules. This means that the model that must be trained is your brain, and the training is done away from the table with an endless stream of equity calculations.  These equity calculations use many different probability and statistics concepts.  In Part 1 of this tutorial you’ll learn some of these concepts through generic poker situations, and in Part 2 you’ll apply what you’ve learned to actual poker hands that I played during my career.\n",
    "\n",
    "Before we get started, a little background info is in order. The game is No Limit Texas Hold’em.  Played with a standard 52 card deck, Texas Hold’em is the most popular of all the poker variations.  Each player is dealt two cards to start the hand.  Each player will make the best five-card hand possible by using their two cards combined with the five community cards that are dealt throughout the hand.  The player to the left of the dealer button starts the action and play moves clockwise around the table.  The betting is typically started when the player to the left of the dealer button posts a small blind, and the next player to the left posts a big blind.  Betting action takes place on multiple streets: preflop, flop, turn, and the river.  Here are a few terms you should understand;\n",
    "\n",
    "\n",
    "**Note**: *When reviewing poker hands, it is common to refer to our opponent as the \"Villain\" and ourselves as the \"Hero.\"*"
   ]
  },
  {
   "cell_type": "code",
   "execution_count": 11,
   "metadata": {
    "collapsed": false
   },
   "outputs": [
    {
     "name": "stdout",
     "output_type": "stream",
     "text": [
      "0.07692307692307693\n"
     ]
    }
   ],
   "source": [
    "# Ace Probability Code\n",
    "cards = 52\n",
    "aces = 4\n",
    "\n",
    "ace_probability = aces / cards\n",
    "print(ace_probability)"
   ]
  },
  {
   "cell_type": "code",
   "execution_count": 12,
   "metadata": {
    "collapsed": false
   },
   "outputs": [
    {
     "name": "stdout",
     "output_type": "stream",
     "text": [
      "7.6923076923076925\n"
     ]
    }
   ],
   "source": [
    "# Ace Probability Percent Code\n",
    "ace_probability_percent = ace_probability * 100\n",
    "print(ace_probability_percent)"
   ]
  },
  {
   "cell_type": "code",
   "execution_count": 13,
   "metadata": {
    "collapsed": false
   },
   "outputs": [
    {
     "name": "stdout",
     "output_type": "stream",
     "text": [
      "25.0\n",
      "23.076923076923077\n",
      "1.9230769230769231\n"
     ]
    }
   ],
   "source": [
    "# Probability Function Code\n",
    "def event_probability(event_outcomes, sample_space):\n",
    "    probability = (event_outcomes / sample_space) * 100\n",
    "    return probability\n",
    "\n",
    "cards = 52\n",
    "\n",
    "hearts = 13\n",
    "heart_probability = event_probability(hearts, cards)\n",
    "\n",
    "face_cards = 12\n",
    "face_card_probability = event_probability(face_cards, cards)\n",
    "\n",
    "queen_of_hearts = 1\n",
    "queen_of_hearts_probability = event_probability(queen_of_hearts, cards)\n",
    "\n",
    "print(heart_probability)\n",
    "print(face_card_probability)\n",
    "print(queen_of_hearts_probability)"
   ]
  },
  {
   "cell_type": "code",
   "execution_count": 14,
   "metadata": {
    "collapsed": false
   },
   "outputs": [
    {
     "name": "stdout",
     "output_type": "stream",
     "text": [
      "7.8431372549019605\n",
      "5.88235294117647\n"
     ]
    }
   ],
   "source": [
    "# Dependent Events Code\n",
    "cards = 52\n",
    "cards_drawn = 1 \n",
    "cards = cards - cards_drawn \n",
    "\n",
    "aces = 4\n",
    "\n",
    "# Determine the probability of drawing an Ace after drawing a King on the first draw\n",
    "ace_probability1 = event_probability(aces, cards)\n",
    "\n",
    "# Determine the probability of drawing an Ace after drawing an Ace on the first draw\n",
    "aces_drawn = 1\n",
    "aces = aces - aces_drawn\n",
    "ace_probability2 = event_probability(aces, cards)\n",
    "\n",
    "print(ace_probability1)\n",
    "print(ace_probability2)"
   ]
  },
  {
   "cell_type": "code",
   "execution_count": 15,
   "metadata": {
    "collapsed": false
   },
   "outputs": [
    {
     "name": "stdout",
     "output_type": "stream",
     "text": [
      "19.565217391304348\n"
     ]
    }
   ],
   "source": [
    "# Flush Draw Code\n",
    "cards = 52\n",
    "hole_cards = 2\n",
    "turn_community_cards = 6\n",
    "cards = cards - (hole_cards + turn_community_cards)\n",
    "\n",
    "diamonds = 13\n",
    "diamonds_drawn = 4\n",
    "outs = diamonds - diamonds_drawn\n",
    "\n",
    "river_flush_probability = event_probability(outs, cards)\n",
    "print(river_flush_probability)"
   ]
  },
  {
   "cell_type": "code",
   "execution_count": 16,
   "metadata": {
    "collapsed": false
   },
   "outputs": [
    {
     "name": "stdout",
     "output_type": "stream",
     "text": [
      "17.391304347826086\n"
     ]
    }
   ],
   "source": [
    "# Flush Draw Code\n",
    "cards = 52\n",
    "hole_cards = 2\n",
    "turn_community_cards = 4\n",
    "cards = cards - (hole_cards + turn_community_cards)\n",
    "\n",
    "eights = 4\n",
    "kings = 4\n",
    "outs = eights + kings\n",
    "\n",
    "river_straight_probability = event_probability(outs, cards)\n",
    "print(river_straight_probability)"
   ]
  },
  {
   "cell_type": "code",
   "execution_count": null,
   "metadata": {
    "collapsed": true
   },
   "outputs": [],
   "source": [
    "cards = 52\n",
    "hole_cards = 2\n",
    "\n",
    "flop_community_cards = 3"
   ]
  }
 ],
 "metadata": {
  "anaconda-cloud": {},
  "kernelspec": {
   "display_name": "Python [default]",
   "language": "python",
   "name": "python3"
  },
  "language_info": {
   "codemirror_mode": {
    "name": "ipython",
    "version": 3
   },
   "file_extension": ".py",
   "mimetype": "text/x-python",
   "name": "python",
   "nbconvert_exporter": "python",
   "pygments_lexer": "ipython3",
   "version": "3.5.2"
  }
 },
 "nbformat": 4,
 "nbformat_minor": 1
}
