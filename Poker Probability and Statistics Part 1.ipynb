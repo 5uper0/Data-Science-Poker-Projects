{
 "cells": [
  {
   "cell_type": "markdown",
   "metadata": {},
   "source": [
    "# Poker Probability and Statistics in Python Part 1\n",
    "\n",
    "Data Scientists create machine learning models to make predictions and optimize decisions. In online poker, the options are whether to bet, call, or fold.  You aren’t allowed to use software to make those decisions though. That's where most online poker sites draw the line in the rules. Since you can't train a machine learning model, you must train your brain. This requires an endless stream of equity calculations away from the poker table.  These equity calculations use many different probability and statistics concepts.  In Part 1 of this tutorial you’ll learn some of these concepts using a deck of cards and generic poker situations.  In Part 2 you’ll apply what you’ve learned to actual poker hands that I played during my career.\n",
    "\n",
    "For several years, beginning in 2010 I made a living playing online poker professionally. Data Science was a natural progression for me as it requires a similar skill-set as earning a profit from online poker. I wrote a blog about [what data science has in common with poker](https://medium.springboard.com/how-i-used-professional-poker-to-become-a-data-scientist-e49b75dfe8e3), and I mentioned that each time a poker hand is played at an online poker site, a hand history is generated.  These hand histories explain everything that each player did during that hand. I used software called [Hold’em Manager](https://holdemmanager.com/?a_aid=sharpdata) (think Tableau for poker) to take advantage of this data.  Hold'em Manager downloads each of these hand histories in real time to a PostgreSQL database so you can keep track of your opponent’s tendencies."
   ]
  },
  {
   "cell_type": "markdown",
   "metadata": {},
   "source": [
    "## Probability Theory\n",
    "\n",
    "Humans are notoriously bad at intuitively understanding probability theory.  The concepts, however, are very important to for data science and predictive analytics.  Data science is about using data from events that have already occurred to predict future events.  Statistics makes sense the past, while probability theory helps predict the future.  More specifically, probability tells you how often, or the rate at which an event is likely to occur, given multiple trials of the event.  Understanding probability theory isn’t so difficult once you take a closer look.  First, a few things to keep in mind;\n",
    "\n",
    "- An experiment is a set of rules that governs a specific operation that is being performed;\n",
    "- A trial is the performance or exercise of that experiment;\n",
    "- An outcome is the result of a given trial;\n",
    "- An event is an outcome or any combination of outcomes;\n",
    "- The probability of an event is always between 0 and 1, with 0 indicating an event has no chance of occurring and 1 indicating an event will always occur.  \n",
    "\n",
    "To determine the probability of an event occurring, divide the number of possible event outcomes by the sample space.  The sample space is defined as all the possible outcomes. \n"
   ]
  },
  {
   "cell_type": "markdown",
   "metadata": {},
   "source": [
    "$$P(Event) = \\frac{Event Outcomes}{Sample Space}$$"
   ]
  },
  {
   "cell_type": "markdown",
   "metadata": {},
   "source": [
    "There are 52 cards In a standard deck of cards.\n",
    "\n",
    "### Card Deck Sample Space Image here \n",
    "\n",
    "There are 4 Aces in a deck.  If you want to know the probability of drawing an Ace, you divide the number of possible event outcomes (4), by the sample space (52)."
   ]
  },
  {
   "cell_type": "markdown",
   "metadata": {},
   "source": [
    "$$P(Ace) = \\frac{4}{52}$$\n",
    "\n",
    "Determine the probability of drawing an Ace."
   ]
  },
  {
   "cell_type": "code",
   "execution_count": 1,
   "metadata": {
    "collapsed": false
   },
   "outputs": [
    {
     "name": "stdout",
     "output_type": "stream",
     "text": [
      "0.08\n"
     ]
    }
   ],
   "source": [
    "# Ace Probability Code\n",
    "\n",
    "# Sample Space\n",
    "cards = 52\n",
    "\n",
    "# Outcomes\n",
    "aces = 4\n",
    "\n",
    "# Divide possible outcomes by the sample set\n",
    "ace_probability = aces / cards\n",
    "\n",
    "# Print probability rounded to two decimal places\n",
    "print(round(ace_probability, 2))"
   ]
  },
  {
   "cell_type": "markdown",
   "metadata": {},
   "source": [
    "The probability of drawing an Ace from a standard deck is 0.08.  To determine probability in percentage form, simply multiply by 100."
   ]
  },
  {
   "cell_type": "code",
   "execution_count": 2,
   "metadata": {
    "collapsed": false
   },
   "outputs": [
    {
     "name": "stdout",
     "output_type": "stream",
     "text": [
      "7.7\n"
     ]
    }
   ],
   "source": [
    "# Ace Probability Percent Code\n",
    "ace_probability_percent = ace_probability * 100\n",
    "\n",
    "# Print probability percent rounded to one decimal place\n",
    "print(round(ace_probability_percent, 1))"
   ]
  },
  {
   "cell_type": "markdown",
   "metadata": {},
   "source": [
    "The probability of drawing an Ace as a percent is 8%.  Now determine the probability of drawing a card that is a;\n",
    "\n",
    "1. Heart;\n",
    "2. Face card (Jacks, Queens, and Kings);\n",
    "3. Queen of Hearts.\n",
    "\n",
    "First, create a function to find the probability of an event in percentage form."
   ]
  },
  {
   "cell_type": "code",
   "execution_count": 3,
   "metadata": {
    "collapsed": false
   },
   "outputs": [
    {
     "name": "stdout",
     "output_type": "stream",
     "text": [
      "25.0\n",
      "23.1\n",
      "1.9\n"
     ]
    }
   ],
   "source": [
    "# Probability Function Code\n",
    "\n",
    "# Create function that returns probability percent rounded to one decimal place\n",
    "def event_probability(event_outcomes, sample_space):\n",
    "    probability = (event_outcomes / sample_space) * 100\n",
    "    return round(probability, 1)\n",
    "\n",
    "# Sample Space\n",
    "cards = 52\n",
    "\n",
    "# Determine the probability of drawing a heart\n",
    "hearts = 13\n",
    "heart_probability = event_probability(hearts, cards)\n",
    "\n",
    "# Determine the probability of drawing a face card\n",
    "face_cards = 12\n",
    "face_card_probability = event_probability(face_cards, cards)\n",
    "\n",
    "# Determine the probability of drawing the queen of hearts\n",
    "queen_of_hearts = 1\n",
    "queen_of_hearts_probability = event_probability(queen_of_hearts, cards)\n",
    "\n",
    "# Print each probability\n",
    "print(heart_probability)\n",
    "print(face_card_probability)\n",
    "print(queen_of_hearts_probability)"
   ]
  },
  {
   "cell_type": "markdown",
   "metadata": {},
   "source": [
    "## Combinations & Permutations\n",
    "\n",
    "Combinations refers to the number of ways a subset of a specified size can be drawn from a given set.  Here is an example with Aces.  There are four Aces in a deck of cards, and these are all the different combinations of pocket Aces;\n",
    "\n",
    "1. Ace Hearts / Ace Diamonds\n",
    "2. Ace Hearts / Ace Clubs\n",
    "3. Ace Hearts / Ace Spades\n",
    "4. Ace Diamonds / Ace Clubs\n",
    "5. Ace Diamonds / Ace Spades\n",
    "6. Ace Clubs / Ace Spades\n",
    "\n",
    "There are six combinations of pocket Aces.  The equation for determining combinations is:\n",
    "\n",
    "\n",
    "$$nCk = \\frac{nPk}{k!}$$\n",
    "\n",
    "Where;\n",
    "\n",
    "- C = Combinations\n",
    "- n = Size of the set\n",
    "- k = Size of the subset\n",
    "- P = Permutations\n",
    "- ! = Factorial\n",
    "\n",
    "To find the number of combinations, you first must find the number of permutations.  Permutations are the number of ways a subset of a specified size can be ***arranged*** from a given set.  The equation for determining permutations is:\n",
    "\n",
    "$$nPk = \\frac{n!}{(n - k)!}$$\n",
    "\n",
    "To find the number of permutations of pocket Aces, you must divide the factorial of the size of the set by the factorial of the size of the set minus the size of the subset.\n",
    "\n",
    "$$4P2 = \\frac{4!}{(4 - 2)!}$$"
   ]
  },
  {
   "cell_type": "code",
   "execution_count": 4,
   "metadata": {
    "collapsed": false
   },
   "outputs": [
    {
     "name": "stdout",
     "output_type": "stream",
     "text": [
      "12.0\n"
     ]
    }
   ],
   "source": [
    "# Permutations Code\n",
    "import math\n",
    "n = 4\n",
    "k = 2\n",
    "\n",
    "# Determine permutations and print result\n",
    "Permutations = math.factorial(n) / math.factorial(k)\n",
    "print(Permutations)"
   ]
  },
  {
   "cell_type": "markdown",
   "metadata": {},
   "source": [
    "To determine the number of combinations, simply divide the number of permutations by the factorial of the size of the subset.  Try finding the number of starting hand combinations that can be dealt in Texas Hold’em.\n",
    "\n",
    "$$52C2 = \\frac{52P2}{2!}$$"
   ]
  },
  {
   "cell_type": "code",
   "execution_count": 5,
   "metadata": {
    "collapsed": false
   },
   "outputs": [
    {
     "name": "stdout",
     "output_type": "stream",
     "text": [
      "1326.0\n"
     ]
    }
   ],
   "source": [
    "# Combinations Code\n",
    "n = 52\n",
    "k = 2\n",
    "\n",
    "# Determine Permutations\n",
    "Permutations = math.factorial(n) / math.factorial(n - k)\n",
    "\n",
    "# Determine Combinations and print result\n",
    "Combinations = Permutations / math.factorial(k)\n",
    "print(Combinations)"
   ]
  },
  {
   "cell_type": "markdown",
   "metadata": {},
   "source": [
    "## Independent vs. Dependent Events\n",
    "\n",
    "Independent events are events that don’t impact the probability of the other event/s.  Drawing a card from the deck, replacing the card, shuffling the deck, and then drawing another card is an example of independent events.  The probability of drawing an Ace the first draw is the same as the second.  \n",
    "\n",
    "Dependent events are events that have an impact on the probability of the other event/s.  Drawing a card from the deck and then drawing a second card from the deck without replacing the first card is an example of a dependent event.  \n",
    "\n",
    "The probability of drawing an Ace the fist draw is not the same as the probability of drawing an Ace on the second draw.  After the first card is drawn, the sample space has reduced by 1, from 52 to 51.  Depending on what the card was on the first draw, the number of event outcomes may have also changed.  If the card was an Ace, there are now only 3 Aces remaining for the second draw.\n",
    "\n",
    "You already know the probability of drawing an Ace on the first draw.  Now determine the probability of drawing an Ace on the second draw , if the first card drawn was;\n",
    "\n",
    "1. A King\n",
    "2. An Ace"
   ]
  },
  {
   "cell_type": "code",
   "execution_count": 6,
   "metadata": {
    "collapsed": false
   },
   "outputs": [
    {
     "name": "stdout",
     "output_type": "stream",
     "text": [
      "7.8\n",
      "5.9\n"
     ]
    }
   ],
   "source": [
    "# Dependent Events Code\n",
    "\n",
    "# Sample Space\n",
    "cards = 52\n",
    "cards_drawn = 1 \n",
    "cards = cards - cards_drawn \n",
    "\n",
    "# Determine the probability of drawing an Ace after drawing a King on the first draw\n",
    "aces = 4\n",
    "ace_probability1 = event_probability(aces, cards)\n",
    "\n",
    "# Determine the probability of drawing an Ace after drawing an Ace on the first draw\n",
    "aces_drawn = 1\n",
    "aces = aces - aces_drawn\n",
    "ace_probability2 = event_probability(aces, cards)\n",
    "\n",
    "# Print each probability\n",
    "print(ace_probability1)\n",
    "print(ace_probability2)"
   ]
  },
  {
   "cell_type": "markdown",
   "metadata": {},
   "source": [
    "Here are a few situations common to poker which are relevant to the concept of dependent events.  Before we get started, a little background info is in order.  The game is Texas Hold’em.  Played with a standard 52 card deck, Texas Hold’em is the most popular of all the poker variations.  Each player is dealt two cards to start the hand and will make the best five-card hand possible by using their two cards combined with the five community cards that are dealt throughout the hand.  Cards are dealt in four rounds;\n",
    "\n",
    "- **Pre-Flop**: Each player is dealt two cards, known as hole cards\n",
    "- **Flop**: Three community cards are dealt\n",
    "- **Turn**: One community card is dealt\n",
    "- **River**: Final community card is dealt\n",
    "\n",
    "#### Flush Draw\n",
    "\n",
    "##### Your Hand\n",
    "\n",
    "#### Images Here\n",
    "\n",
    "##### Community Cards\n",
    "\n",
    "#### Images Here\n",
    "\n",
    "Your on the Turn and you have four cards to an Ace high Flush.  A Flush is a strong poker hand where all five cards are the same suit.  What’s the probability that the last community card, known as the River Card, is a Diamond?"
   ]
  },
  {
   "cell_type": "code",
   "execution_count": 7,
   "metadata": {
    "collapsed": false
   },
   "outputs": [
    {
     "name": "stdout",
     "output_type": "stream",
     "text": [
      "19.6\n"
     ]
    }
   ],
   "source": [
    "# Flush Draw Code\n",
    "\n",
    "# Sample Space\n",
    "cards = 52\n",
    "hole_cards = 2\n",
    "turn_community_cards = 4\n",
    "cards = cards - (hole_cards + turn_community_cards)\n",
    "\n",
    "# Outcomes\n",
    "diamonds = 13\n",
    "diamonds_drawn = 4\n",
    "# In poker, cards that complete a draw are known as outs\n",
    "outs = diamonds - diamonds_drawn\n",
    "\n",
    "#Determine river flush probability\n",
    "river_flush_probability = event_probability(outs, cards)\n",
    "print(river_flush_probability)"
   ]
  },
  {
   "cell_type": "markdown",
   "metadata": {},
   "source": [
    "There is roughly a 20% chance of hitting your Flush draw on the River.  Here’s another one:\n",
    "\n",
    "#### Open Ended Straight Draw\n",
    "\n",
    "##### Your Hand\n",
    "\n",
    "#### Images Here\n",
    "\n",
    "##### Community Cards\n",
    "\n",
    "#### Images Here\n",
    "\n",
    "Your on the Turn and you have an open ended Straight draw.  A Straight is another strong hand where there are five cards in sequential order.  The Straight draw is open ended because any Eight ( 8, 9, 10, Jack, Queen) or any King (9, 10, Jack, Queen, King) will complete the straight.  What’s the probability that the River card completes the Straight?"
   ]
  },
  {
   "cell_type": "code",
   "execution_count": 8,
   "metadata": {
    "collapsed": false
   },
   "outputs": [
    {
     "name": "stdout",
     "output_type": "stream",
     "text": [
      "17.4\n"
     ]
    }
   ],
   "source": [
    "# Straight Draw Code\n",
    "\n",
    "# Sample Space\n",
    "cards = 52\n",
    "hole_cards = 2\n",
    "turn_community_cards = 4\n",
    "cards = cards - (hole_cards + turn_community_cards)\n",
    "\n",
    "# Outcomes\n",
    "eights = 4\n",
    "kings = 4\n",
    "outs = eights + kings\n",
    "\n",
    "# Determine river straight probability\n",
    "river_straight_probability = event_probability(outs, cards)\n",
    "print(river_straight_probability)"
   ]
  },
  {
   "cell_type": "markdown",
   "metadata": {},
   "source": [
    "There is roughly a 17% chance of hitting your Straight draw on the River.\n",
    "\n",
    "## Multiple Events\n",
    "\n",
    "You’ve learned how to calculate probabilities for single events, but what about multiple events?  \n",
    "\n",
    "#### Mutually Exclusive Events\n",
    "\n",
    "To calculate the probability (or the union) of any of multiple mutually exclusive events occurring, you simply add together the probability of each event occurring.  \n",
    "\n",
    "$$P(Event A \\cup Event B) = P(Event A) + P(Event B)$$\n",
    "\n",
    "Drawing a heart or drawing a club are two mutually exclusive events.  A heart is a heart and a club is a club.  To determine the probability of drawing a heart or drawing a club, add the probability of drawing a heart to the probability of drawing a club.\n",
    "\n",
    "$$P(Heart \\cup Club) = (\\frac{13}{52}) \\times (\\frac{13}{52})$$\n",
    "\n",
    "Determine the probability of the following mutually exclusive events;\n",
    "\n",
    "1. Drawing a heart or drawing a club;\n",
    "2. Drawing an ace, a king or a queen."
   ]
  },
  {
   "cell_type": "code",
   "execution_count": 9,
   "metadata": {
    "collapsed": false
   },
   "outputs": [
    {
     "name": "stdout",
     "output_type": "stream",
     "text": [
      "50.0\n",
      "23.1\n"
     ]
    }
   ],
   "source": [
    "# Mutual Exclusivity Code\n",
    "\n",
    "# Sample Space\n",
    "cards = 52\n",
    "\n",
    "# Calculate the probability of drawing a heart or a club\n",
    "hearts = 13\n",
    "clubs = 13\n",
    "heart_or_club = event_probability(hearts, cards) + event_probability(clubs, cards)\n",
    "\n",
    "# Calculate the probability of drawing an ace, king, or a queen\n",
    "aces = 4\n",
    "kings = 4\n",
    "queens = 4\n",
    "ace_king_or_queen = event_probability(aces, cards) + event_probability(kings, cards) + event_probability(queens, cards)\n",
    "\n",
    "print(heart_or_club)\n",
    "print(ace_king_or_queen)"
   ]
  },
  {
   "cell_type": "markdown",
   "metadata": {},
   "source": [
    "#### Non Mutually Exclusive Events\n",
    "\n",
    "Not all events are mutually exclusive.  Drawing a heart or drawing an ace are two non mutually exclusive events.  The ace of hearts is both an ace and a heart.  When events are not mutually exclusive, you must correct for the overlap.\n",
    "\n",
    "$$P(Event A \\cup Event B) = P(Event A) + P(Event B) - P(EventA \\cup EventB)$$\n",
    "\n",
    "To calculate the probability of drawing a heart or an ace, add the probability of drawing a heart to the probability of drawing an ace and then subtract the probability of drawing the ace of hearts.\n",
    "\n",
    "$$P(Heart \\cup Ace) = (\\frac{13}{52}) + (\\frac{4}{52}) - (\\frac{1}{52})$$\n",
    "\n",
    "Calculate the probability of the following non mutually exclusive events;\n",
    "\n",
    "1. Drawing a heart or an ace;\n",
    "2. Drawing a red card or drawing a face card."
   ]
  },
  {
   "cell_type": "code",
   "execution_count": 10,
   "metadata": {
    "collapsed": false
   },
   "outputs": [
    {
     "name": "stdout",
     "output_type": "stream",
     "text": [
      "30.8\n",
      "61.6\n"
     ]
    }
   ],
   "source": [
    "# Non Mutual Exclusivity Code\n",
    "\n",
    "# Sample Space\n",
    "cards = 52\n",
    "\n",
    "# Calculate the probability of drawing a heart or an ace\n",
    "hearts = 13\n",
    "aces = 4\n",
    "ace_of_hearts = 1\n",
    "heart_or_ace = event_probability(hearts, cards) + event_probability(aces, cards) - event_probability(ace_of_hearts, cards)\n",
    "\n",
    "# Calculate the probability of drawing a red card or a face card\n",
    "red_cards = 26\n",
    "face_cards = 12\n",
    "red_face_cards = 6\n",
    "red_or_face_cards = event_probability(red_cards, cards) + event_probability(face_cards, cards) - event_probability(red_face_cards, cards)\n",
    "\n",
    "print(round(heart_or_ace, 1))\n",
    "print(round(red_or_face_cards, 1))"
   ]
  },
  {
   "cell_type": "markdown",
   "metadata": {},
   "source": [
    "#### Intersection of Independent Events\n",
    "\n",
    "The probability of the intersection of two independent events is determined by multiplying the probabilities of each event occurring.\n",
    "\n",
    "$$P(Event A \\cap Event B) = P(Event A) \\times P(Event B)$$\n",
    "\n",
    "If you want to know the probability of drawing an Ace from a deck of cards, replacing it, reshuffling the deck, and drawing another Ace, you multiply the probability of drawing and Ace times the probability of drawing an Ace.\n",
    "\n",
    "$$P(Ace \\cap Ace) = (\\frac{4}{52}) \\times (\\frac{4}{52})$$"
   ]
  },
  {
   "cell_type": "code",
   "execution_count": 11,
   "metadata": {
    "collapsed": false
   },
   "outputs": [
    {
     "name": "stdout",
     "output_type": "stream",
     "text": [
      "0.6\n"
     ]
    }
   ],
   "source": [
    "# Two Independent Events Code\n",
    "\n",
    "# Sample Space\n",
    "cards = 52\n",
    "\n",
    "# Outcomes\n",
    "aces = 4\n",
    "\n",
    "# Probability of one ace\n",
    "ace_probability = aces / cards\n",
    "\n",
    "# Probability of two consecutive independant aces \n",
    "two_aces_probability = ace_probability * ace_probability\n",
    "\n",
    "# Two Ace Probability Percent Code\n",
    "two_ace_probability_percent = two_aces_probability * 100\n",
    "print(round(two_ace_probability_percent, 1))"
   ]
  },
  {
   "cell_type": "markdown",
   "metadata": {},
   "source": [
    "The probability of drawing two Aces in a row, independently, is 0.592%.  What if the second event is dependant?\n",
    "\n",
    "#### Intersection of Dependent Events\n",
    "\n",
    "The probability of the intersection of two non independent events (Event A & Event B given A) is determined by multiplying the probability of Event A occurring times the probability of Event B given A. \n",
    "\n",
    "$$P(Event A \\cap Event B | A) = P(Event A) \\times P(Event B | A)$$\n",
    "\n",
    "The best starting hand you can have in Texas Hold’em is pocket Aces.  What is the probability of being dealt two Aces?\n",
    "\n",
    "$$P(Ace \\cap Ace | Ace) = (\\frac{4}{52}) \\times (\\frac{3}{51})$$\n"
   ]
  },
  {
   "cell_type": "code",
   "execution_count": 12,
   "metadata": {
    "collapsed": false
   },
   "outputs": [
    {
     "name": "stdout",
     "output_type": "stream",
     "text": [
      "0.4524886877828055\n"
     ]
    }
   ],
   "source": [
    "# Intersection of Dependent Events Code\n",
    "\n",
    "# Sample Space first draw\n",
    "cards = 52\n",
    "\n",
    "# Outcomes first draw\n",
    "aces = 4\n",
    "\n",
    "# Probability of ace on first draw\n",
    "first_ace_probability = aces / cards\n",
    "\n",
    "# Sample Space second draw\n",
    "cards = cards - 1\n",
    "\n",
    "# Outcomes second draw\n",
    "aces = aces - 1\n",
    "\n",
    "# Probability of ace on second draw after ace on first\n",
    "second_ace_probability = aces / cards\n",
    "\n",
    "# Probability of two consecutive aces (dependent)\n",
    "both_aces_probability = first_ace_probability * second_ace_probability * 100\n",
    "print(both_aces_probability)"
   ]
  },
  {
   "cell_type": "markdown",
   "metadata": {},
   "source": [
    "The probability of drawing two non independent Aces in a row is 0.452%.  Let’s take a look at a couple situations where this comes into play at the poker table.\n",
    "\n",
    "#### Flop Flush Draw\n",
    "\n",
    "##### Your Hand\n",
    "\n",
    "#### Images Here\n",
    "\n",
    "##### Community Cards\n",
    "\n",
    "#### Images Here\n",
    "\n",
    "This is a very similar situation as the Flush draw above, except this time you’re on the flop and have two more community cards to come instead of just one.  How can you determine the probability of getting a Flush by the River?  First you need to determine all the different possible scenarios;\n",
    "\n",
    "- A) Turn Diamond, River Non Diamond (Made Flush)\n",
    "- B) Turn Non Diamond, River Diamond (Made Flush)\n",
    "- C) Turn Diamond, River Diamond (Made Flush)\n",
    "- D) Turn Non Diamond, River Non Diamond (No Flush)\n",
    "\n",
    "Those are the only four possibilities, and each of those scenarios are mutually exclusive.  This means that if you add the probabilities of each of those scenarios occurring, the total will be 1.  In other words, one of those four scenarios is definitely going to occur.  You want to know the probability of scenario A, B, or C occurring.  The simplest approach to figure this out is to determine the probability of scenario D, and subtract that from 1."
   ]
  },
  {
   "cell_type": "code",
   "execution_count": 13,
   "metadata": {
    "collapsed": false
   },
   "outputs": [
    {
     "name": "stdout",
     "output_type": "stream",
     "text": [
      "38.4\n"
     ]
    }
   ],
   "source": [
    "# Flop Ace Flush Draw Code\n",
    "\n",
    "# Sample Space on turn\n",
    "cards = 52\n",
    "hole_cards = 2\n",
    "flop_community_cards = 3\n",
    "cards = cards - (hole_cards + flop_community_cards)\n",
    "\n",
    "# Outcomes\n",
    "diamonds = 13\n",
    "diamonds_drawn = 4\n",
    "non_diamonds_drawn = 1\n",
    "outs = diamonds - diamonds_drawn\n",
    "turn_non_diamonds = cards - outs - non_diamonds_drawn \n",
    "\n",
    "# Probability of not getting a diamond on the turn\n",
    "no_diamond_turn_probability = turn_non_diamonds / cards\n",
    "\n",
    "# Sample Space on river\n",
    "turn_community_card = 1\n",
    "cards = cards - turn_community_card\n",
    "\n",
    "# Outcomes on river\n",
    "river_non_diamonds = turn_non_diamonds - turn_community_card\n",
    "\n",
    "# Probability of not getting a diamond on the river\n",
    "no_diamond_river_probability = river_non_diamonds / cards\n",
    "\n",
    "# Probability of not getting a flush\n",
    "no_flush_probability = no_diamond_turn_probability * no_diamond_river_probability\n",
    "\n",
    "# Probability of getting a flush\n",
    "flush_probability = 1 - no_flush_probability\n",
    "flush_probability_percent = flush_probability * 100\n",
    "\n",
    "# Print probability percent rounded to one decimal place\n",
    "print(round(flush_probability_percent, 1))"
   ]
  },
  {
   "cell_type": "markdown",
   "metadata": {},
   "source": [
    "Now let's change the hand slightly.\n",
    "\n",
    "##### Your Hand\n",
    "\n",
    "#### Images Here\n",
    "\n",
    "##### Community Cards\n",
    "\n",
    "#### Images Here\n",
    "\n",
    "This is a very similar situation as the last one, except for one big difference.  You still have a flush draw, but this time you don’t have the Ace.  If a Diamond falls on the turn and the river, there is a good chance someone will have a better flush draw.  Determine the probability of a Diamond falling on the Turn or the River, but not both.  You already have the probability of not hitting a flush.  Now find the probability of a diamond falling on the turn and river, add that to the probability of not hitting a flush, and subtract from 1."
   ]
  },
  {
   "cell_type": "code",
   "execution_count": 14,
   "metadata": {
    "collapsed": false
   },
   "outputs": [
    {
     "name": "stdout",
     "output_type": "stream",
     "text": [
      "35.1\n"
     ]
    }
   ],
   "source": [
    "# Flop 45 Flush Draw Code\n",
    "\n",
    "# Sample Space on turn\n",
    "cards = 52\n",
    "hole_cards = 2\n",
    "flop_community_cards = 3\n",
    "cards = cards - (hole_cards + flop_community_cards)\n",
    "\n",
    "# Outcomes on turn\n",
    "diamonds = 13\n",
    "diamonds_drawn = 4\n",
    "outs = diamonds - diamonds_drawn\n",
    "\n",
    "# Probability of diamond on turn\n",
    "diamond_turn_probability = outs / cards\n",
    "\n",
    "# Sample Space on river\n",
    "turn_diamonds = 1\n",
    "cards = cards - turn_diamonds\n",
    "\n",
    "# Outcomes on river\n",
    "river_diamonds = outs - turn_diamonds\n",
    "\n",
    "# Probability of diamond on river\n",
    "diamond_river_probability = river_diamonds / cards\n",
    "\n",
    "# Probability of getting a diamond on the turn and river\n",
    "two_diamonds_probability = diamond_turn_probability * diamond_river_probability\n",
    "\n",
    "# Determine the probability of getting only one diamond by the river\n",
    "one_diamond_probability = 1 - (no_flush_probability + two_diamonds_probability)\n",
    "one_diamond_probability_percent = one_diamond_probability * 100\n",
    "\n",
    "# Print probability percent rounded to one decimal place\n",
    "print(round(one_diamond_probability_percent, 1))"
   ]
  },
  {
   "cell_type": "markdown",
   "metadata": {},
   "source": [
    "## Expected Value\n",
    "\n",
    "Every decision made in life boils down to a decision between two or more expected values.  If you’re at the grocery store and deciding between the name brand cereal and the generic brand, you’re making a decision between two expected values.  Does the amount of value you gain from buying the name brand justify the higher cost?  In this case the value gained is intrinsic, and hard to calculate.\n",
    "\n",
    "You can calculate Expected Value at the poker table though. You simply multiply the Total Value times the probability of winning to get your Expected Value.   \n",
    "\n",
    "$$Expected Value = Total Value \\times Probability$$\n",
    "\n",
    "What is the expected value if there is \\$100 (Total Value) in the pot, and your probability of winning the pot is 0.75?\n",
    "\n",
    "$$Expected Value = \\$100 \\times 0.75$$"
   ]
  },
  {
   "cell_type": "code",
   "execution_count": 15,
   "metadata": {
    "collapsed": false
   },
   "outputs": [
    {
     "name": "stdout",
     "output_type": "stream",
     "text": [
      "75.0\n"
     ]
    }
   ],
   "source": [
    "# EV Example Code\n",
    "pot = 100\n",
    "probability = 0.75\n",
    "\n",
    "# Determine expected value\n",
    "expected_value = pot * probability\n",
    "print(expected_value)"
   ]
  },
  {
   "cell_type": "markdown",
   "metadata": {},
   "source": [
    "You’re expected value is \\$75.  Expected value is an important concept in poker.  Let’s go back to the first flush example to see how to use expected values to your advantage.\n",
    "\n",
    "##### Your Hand\n",
    "\n",
    "#### Images Here\n",
    "\n",
    "##### Opponents Hand\n",
    "\n",
    "#### Images Here\n",
    "\n",
    "##### Community Cards\n",
    "\n",
    "#### Images Here\n",
    "\n",
    "- Total Pot = \\$60\n",
    "\n",
    "- Opponents Bet = \\$20\n",
    "\n",
    "Your opponent has decided to be helpful and show you his cards, and has a set of 2s.  To win the hand on the River, you must hit any Diamond except a Jack or 2.  The Jack or 2 of Diamonds would give your opponent a better hand, a full house and four of a kind respectively.  You have to call \\$20 to stay in the hand, and if you win the hand you win \\$60.  If your expected value is greater than \\$20 you should call the bet, and if not you should fold.  Figure out if you should call the bet.  "
   ]
  },
  {
   "cell_type": "code",
   "execution_count": 16,
   "metadata": {
    "collapsed": false
   },
   "outputs": [
    {
     "name": "stdout",
     "output_type": "stream",
     "text": [
      "9.55 Fold\n"
     ]
    }
   ],
   "source": [
    "# EV Flush Code\n",
    "\n",
    "# Sample Space\n",
    "cards = 52\n",
    "hole_cards = 2\n",
    "opponents_hole_cards = 2 # Your opponent provided you information... use it\n",
    "turn_community_cards = 4\n",
    "cards = cards - (hole_cards + opponents_hole_cards + turn_community_cards)\n",
    "\n",
    "# Outcomes\n",
    "diamonds = 13\n",
    "diamonds_drawn = 4\n",
    "diamond_non_outs = 2 # You can't count the two diamonds that won't help you win\n",
    "outs = diamonds - diamonds_drawn - diamond_non_outs\n",
    "\n",
    "# Determine win probability\n",
    "win_probability = outs / cards\n",
    "\n",
    "# Determine expected value\n",
    "pot = 60\n",
    "ev = pot * win_probability\n",
    "\n",
    "# Print ev and appropriate decision\n",
    "call_amount = 20\n",
    "if ev >= 20:\n",
    "    print(round(ev, 2), 'Call')\n",
    "else:\n",
    "    print(round(ev, 2), 'Fold')"
   ]
  },
  {
   "cell_type": "markdown",
   "metadata": {},
   "source": [
    "You’re expected value is only \\$9.55, which is less than the \\$20 you would need to risk to get that reward, so you must fold.\n",
    "\n",
    "This concludes Part 1 of the tutorial.  You learned about several core probability concepts including Independent/Dependant events, Multiple events, Expected Values, and Permutations/Combinations and how to calculate each of them.  In Part 2 you will apply these concepts to actual poker hands that I played during my career.\n",
    "\n",
    "\n",
    "\\*One card is dealt face down, known as the Burn card, before the Flop, Turn, and River.  Since the card is dealt face down, and no player knows what it is, it does not count as a trial."
   ]
  }
 ],
 "metadata": {
  "anaconda-cloud": {},
  "kernelspec": {
   "display_name": "Python [default]",
   "language": "python",
   "name": "python3"
  },
  "language_info": {
   "codemirror_mode": {
    "name": "ipython",
    "version": 3
   },
   "file_extension": ".py",
   "mimetype": "text/x-python",
   "name": "python",
   "nbconvert_exporter": "python",
   "pygments_lexer": "ipython3",
   "version": "3.5.2"
  }
 },
 "nbformat": 4,
 "nbformat_minor": 1
}
