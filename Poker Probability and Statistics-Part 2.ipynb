{
 "cells": [
  {
   "cell_type": "markdown",
   "metadata": {},
   "source": [
    "# Poker Probability and Statistics\n",
    "\n",
    "<!-- refer back to first part of the tutorial ---> \n",
    "\n",
    "## What is No Limit Texas Hold'em About? \n",
    "\n",
    "Before we get started, a little background info is in order. The game is No Limit Texas Hold’em.  Played with a standard 52 card deck, Texas Hold’em is the most popular of all the poker variations.  Each player is dealt two cards to start the hand.  Each player will make the best five-card hand possible by using their two cards combined with the five community cards that are dealt throughout the hand.  The player to the left of the dealer button starts the action and play moves clockwise around the table.  The betting is typically started when the player to the left of the dealer button posts a small blind, and the next player to the left posts a big blind.  Betting action takes place on multiple streets: preflop, flop, turn, and the river.  Here are a few terms you should understand;\n",
    "\n",
    "- Button - The Button is a circular disk that gets passed around the table clockwise after each hand.  In a home game, the person who has the Button deals the hand dealing the first card to the player on their left.  At a casino, the Button identifies who is supposed to be the dealer, but the actual dealer is provided by the casino.\n",
    "- The Blinds - The Blinds are forced bets by the two players to the left of the Button.  They are called “Blinds” because the two players have to bet blind, in that they have to bet before they get to see their cards. \n",
    "- Streets - Each round that cards are dealt is referred to as a street. \n",
    "- Pre-Flop - This is the first betting round.  Each player is dealt two cards, and the blinds start the betting action.  No community cards have been dealt yet.\n",
    "- Flop - This is the second betting round.  In this round, three community cards are dealt face up in the middle of the table, followed by a round of betting.\n",
    "- Turn - In this round, only one community card is dealt, followed by the third round of betting.\n",
    "- The River - The final community card is dealt, followed by the last round of betting.\n",
    "- Showdown - After the River is dealt and all betting action has taken place, any remaining players Show their cards to see who has the best hand.\n",
    "- Check - If it’s a player's turn to act, and no previous bets have been made during that round of betting, the player can Check which means to choose not to bet, and allow the next player to take their turn.\n",
    "- Bet or Raise - Betting or Raising means to increase the size of the wager during a betting round.  The first player to put money in the pot each round is making a Bet.  If another player increases the size of the bet that round, they are making a Raise.\n",
    "- Call - If it’s a player’s turn to act and a bet has already been made during that round, the player can match the previous bet which is known as Calling the bet.\n",
    "- Fold - If it’s a player’s turn to act and a bet has already been made during that round, the player can give up and Fold their hand.  This player is no longer involved in the hand and losses any money they have put in the pot.\n",
    "\n",
    "If you’ve never played or are unfamiliar with poker terminology you can click [here](https://www.pokernews.com/poker-rules/texas-holdem.htm) for a concise but detailed explanation.  \n",
    "\n",
    "Anytime I ran into a situation while playing that confused me, I would mark the hand for review later. After my poker playing session was done, I'd go back through the hands that I'd marked for review and break them down mathematically so I'd have a better idea of what to do in each situation the next time it arose.  I picked out five hands from my poker career.  Using the statistics on my opponents that I had available at the time, I’ll explain my thought process.  Then you can analyze the hand using Python to determine which of your options offers the highest expected value.\n",
    "\n",
    "**Note**: *When reviewing poker hands, it is common to refer to our opponent as the \"Villain\" and ourselves as the \"Hero.\"*"
   ]
  },
  {
   "cell_type": "markdown",
   "metadata": {},
   "source": [
    "## Hand 1 Overview:\n",
    "\n",
    "<!---  General feedback: I would couple back a little more to the theory that was described in the first part of the tutorial: talk about probability, the formula for expected value, dependent/independent events, multiple events,... ----> \n",
    "\n",
    "![Hand 1 Overview](https://s3.amazonaws.com/assets.datacamp.com/blog_assets/Probability+%26+Statistics+Python/Part+2/image1.png)\n",
    "\n",
    "In this situation, you see the following:\n",
    "- Hero bet \\$0.85, so he has \\$20.95 left;\n",
    "- Opponent - also called the \"Villain\"- raises to \\$2.50. This means that the Villain has \\$30.35 remaining; <br>\n",
    "*In poker terminology, this is called a 3bet. The small blind and big blind make the first bet, and the Hero raised them which was the second bet.*\n",
    "- There is currently \\$3.70 Total in the Pot.\n",
    "\n",
    "<!-- I would give a small hint as to why it's not a good option ---> \n",
    "\n",
    "Calling is not a good option for reasons that are beyond the scope of this blog post. The Hero must decide between raising with the plan of going All-In, or, in other words, betting all remaining chips, or folding. Folding costs nothing so you will analyze the Expected Value (EV) of going all in. \n",
    "\n",
    "In this situation, you could make a small raise to induce my opponent to All-in bluff, but you need to do the calculation as if you're going All-in since that is the plan, so:\n",
    "\n",
    "- Hero risks \\$20.95 if All-in and loses; <br>\n",
    "*Going ‘All-in’ means to put all your money in the pot.  The Hero has \\$20.95 remaining, so going All-in risks all the cash he has left.**\n",
    "\n",
    "- Hero wins \\$23 if All-in and wins; <br>\n",
    "*There is currently \\$3.70 in the pot.  Hero bet \\$0.85 and the Villain raised to \\$2.50.  Hero must add \\$1.65 of remaining \\$20.95 to match Villain’s raise, leaving Hero with \\$19.30.  This means the Hero can win an additional \\$19.30 on top of the \\$3.70 already in the pot for a total of \\$23.00.*\n",
    "\n",
    "- Hero wins \\$3.70 if Villain folds."
   ]
  },
  {
   "cell_type": "code",
   "execution_count": 1,
   "metadata": {
    "collapsed": true
   },
   "outputs": [],
   "source": [
    "Hand1_AllIn_Loses = -20.95\n",
    "Hand1_AllIn_Winnings = 23\n",
    "Hand1_Fold_Winnings = 3.7"
   ]
  },
  {
   "cell_type": "markdown",
   "metadata": {},
   "source": [
    "### Hand 1 Relevant Statistics:"
   ]
  },
  {
   "cell_type": "markdown",
   "metadata": {},
   "source": [
    "Poker is a game of deductive reasoning based on incomplete information.  Here is the information you have on this opponent:\n",
    "\n",
    "![Stats1](https://s3.amazonaws.com/assets.datacamp.com/blog_assets/Probability+%26+Statistics+Python/Part+2/image2.png) ![Stats2](https://s3.amazonaws.com/assets.datacamp.com/blog_assets/Probability+%26+Statistics+Python/Part+2/image3.png)\n",
    "\n",
    "1. The Villian is in the Button position which is the first position to the right of the small and big blinds.  Overall, from this position, villian 3bets 7.4% (27 trials);\n",
    "2. Hero is in the Cut-Off position, which is the first position to the right of the Button.  Overall, vs. the Cut-Off, villian 3bets 12.5% (16 trials);\n",
    "3. When Villian is in the Button vs. a pre-flop raise from the Cut-Off, villian 3bets 25% (4 trials);\n",
    "4. When Villian 3bets pre-flop and faces a raise, he folds 50% of the time (2 trials)."
   ]
  },
  {
   "cell_type": "markdown",
   "metadata": {},
   "source": [
    "### Hand 1 Assumptions:"
   ]
  },
  {
   "cell_type": "markdown",
   "metadata": {},
   "source": [
    "Based on the above statistics, I’m going to make the following assumptions which are educated guesses;\n",
    "\n",
    "- Villian raises to 2.50 with about (~) 13-15% of the range of possible starting hands;\n",
    "- Villian folds to a re-raise ~ 25% of the time and goes ‘All-in’ ~75% of the time;\n",
    "- Villian re-raises ‘All-In’ with a ~10% range, which looks like this: ![9.7% range](https://s3.amazonaws.com/assets.datacamp.com/blog_assets/Probability+%26+Statistics+Python/Part+2/image5.png)\n"
   ]
  },
  {
   "cell_type": "markdown",
   "metadata": {},
   "source": [
    "\n",
    "- The hands highlighted in yellow represent the Villian's range, which consists of 128 of the 1326 possible combinations of starting hands (9.7%);\n",
    "- If you’re wondering why A5s and A2s are in the range, those represent Villian’s bluff hands.\n",
    "\n"
   ]
  },
  {
   "cell_type": "markdown",
   "metadata": {},
   "source": [
    "### Hand 1 Analysis:"
   ]
  },
  {
   "cell_type": "markdown",
   "metadata": {},
   "source": [
    "Now that I have Villian’s range, I can plug the Hero's hand (10h10s) and the Villian’s range into an [equity calculator](http://www.acepokersolutions.com/Poker-equity-calculator/).  The equity calculator simulates 10h10s vs. Villian’s range thousands of times and determines that the Hero wins ~53.77% of the time.   \n",
    "\n",
    "Now you can create variables for `Fold_Percent` and `Equity`"
   ]
  },
  {
   "cell_type": "code",
   "execution_count": 2,
   "metadata": {
    "collapsed": true
   },
   "outputs": [],
   "source": [
    "Hand1_Fold_Percent = .25\n",
    "Hand1_Equity = .538"
   ]
  },
  {
   "cell_type": "markdown",
   "metadata": {},
   "source": [
    "Now it’s a simple calculation.  You need to build a function that represents the following equation:\n",
    "\n",
    "- $FoldEV = (FoldPercent * FoldWinnings)$\n",
    "\n",
    "- $AllinEV = (1 - FoldPercent) * ((AllInWinnings * Equity) + (AllInLoses * (1 - Equity)))$\n",
    "\n",
    "- $AllinExpectedValue = FoldEV + AllinEV$"
   ]
  },
  {
   "cell_type": "code",
   "execution_count": 3,
   "metadata": {},
   "outputs": [],
   "source": [
    "def AllinExpectedValue(AllIn_Loses, AllIn_Winnings, Fold_Winnings, Fold_Percent, Equity):\n",
    "    FoldEV = (Fold_Percent * Fold_Winnings)\n",
    "    AllinEV = (1 - Fold_Percent) * ((AllIn_Winnings * Equity) + (AllIn_Loses * (1 - Equity)))\n",
    "    AllinExpectedValue = FoldEV + AllinEV\n",
    "    if AllinExpectedValue > 0:\n",
    "        return 'Raise!', AllinExpectedValue\n",
    "    else:\n",
    "        return 'Fold!', AllinExpectedValue"
   ]
  },
  {
   "cell_type": "markdown",
   "metadata": {},
   "source": [
    "Now plug the Hand 1 variables into the `AllinExpectedValue` function and print your results."
   ]
  },
  {
   "cell_type": "code",
   "execution_count": 4,
   "metadata": {},
   "outputs": [
    {
     "name": "stdout",
     "output_type": "stream",
     "text": [
      "Raise!\n",
      "2.9463250000000016\n"
     ]
    }
   ],
   "source": [
    "Hand1_Decision, Hand1_EV = AllinExpectedValue(Hand1_AllIn_Loses, Hand1_AllIn_Winnings, Hand1_Fold_Winnings, Hand1_Fold_Percent, Hand1_Equity)\n",
    "print(Hand1_Decision)\n",
    "print(Hand1_EV)"
   ]
  },
  {
   "cell_type": "markdown",
   "metadata": {},
   "source": [
    "### Hand 1 Results\n",
    "\n",
    "![Hand 1 Results Image here](https://s3.amazonaws.com/assets.datacamp.com/blog_assets/Probability+%26+Statistics+Python/Part+2/image4.png)\n",
    "\n",
    "**Hero wins the hand with a set (three of a kind) of Tens beating a pair of Kings.**"
   ]
  },
  {
   "cell_type": "markdown",
   "metadata": {},
   "source": [
    "## Hand 2 Overview:\n",
    "\n",
    "![Hand2 Overview](https://s3.amazonaws.com/assets.datacamp.com/blog_assets/Probability+%26+Statistics+Python/Part+2/image7.png)\n",
    "\n",
    "- Hero bet 1.10 and has 28.58 remaining.\n",
    "- Villain raises to 3.80 and has 10.66 remaining.\n",
    "- There is currently 5.40 in the pot.\n",
    "\n",
    "This is a similar situation as the last hand.  Again, calling is not a good option.  Folding costs nothing, so we need to determine if raising All-in has a positive expected value.\n",
    "\n",
    "- Hero Risks 13.36 if All-in;\n",
    "\t- Villain has 10.66 remaining, and has raised 2.70;\n",
    "- Hero wins 16.06 if All-in and wins hand;\n",
    "\t- Villain has 10.66 remaining, and there is currently 5.40 in pot;\n",
    "- Hero wins 5.40 if All-in and Villain folds."
   ]
  },
  {
   "cell_type": "code",
   "execution_count": 5,
   "metadata": {
    "collapsed": true
   },
   "outputs": [],
   "source": [
    "Hand2_AllIn_Loses = -13.36\n",
    "Hand2_AllIn_Winnings = 16.06\n",
    "Hand2_Fold_Winnings = 5.40"
   ]
  },
  {
   "cell_type": "markdown",
   "metadata": {},
   "source": [
    "### Hand 2 Relevant Statistics:\n",
    "\n",
    "![Hand2 Stats3](https://s3.amazonaws.com/assets.datacamp.com/blog_assets/Probability+%26+Statistics+Python/Part+2/image6.png)\n",
    "![Hand2 Stats1](https://s3.amazonaws.com/assets.datacamp.com/blog_assets/Probability+%26+Statistics+Python/Part+2/image8.png)\n",
    "![Hand2 Stats2](https://s3.amazonaws.com/assets.datacamp.com/blog_assets/Probability+%26+Statistics+Python/Part+2/image9.png)\n",
    "\n",
    "1. The Villain is in the Small-Blind position.  From this position, Villain 3bets 7.2% (100+ trials);\n",
    "\t- 100+ trials = If there is no indication of the number of trials next to the relevant statistic;\n",
    "2. The Hero is in the Cut-Off position, and vs. the Cut-Off, Villain 3bets 7.9% (89 trails);\n",
    "3. The Villain folds to a 4bet 25% (8 trials);\n",
    "4. The Villain 3bets 4% overall (100+ trails), but vs. the Hero only 1% (98 trials);\n",
    "\t- This is a huge red flag, and indicates the Villain has a very strong hand;\n",
    "5. The Villain 3bets out of position vs. the Cut-Off 9.8% (51 trials);\n",
    "\t- Out of position means the Villain will be first to act in the later betting rounds, and Hero will be second to act.\n",
    "6. The Villain folds to a 4bet when out of position 0% (5 trials);\n",
    "\t- Another huge red flag."
   ]
  },
  {
   "cell_type": "markdown",
   "metadata": {},
   "source": [
    "### Hand 2 Assumptions:\n",
    "\n",
    "Based on the above statistics, I’m going to make the following assumptions;\n",
    "\n",
    "- Vs. most opponents, the Villain 3bets ~8-10% of the time, but appears to 3bet 4 times as often vs. other opponents than the Hero.  This puts the Villain’s range at ~3%.\n",
    "- The Villain has yet to fold to a 4bet in this situation, so at most the Villain is folding 10% of the time.\n",
    "- The Villain calls with a ~2.7% rang, which looks like this: \n",
    "\n",
    "![Hand2 Range](https://s3.amazonaws.com/assets.datacamp.com/blog_assets/Probability+%26+Statistics+Python/Part+2/image12.png)\n",
    "\n",
    "- The hands in yellow represent the Villain’s assumed range, which consists of 34 of the 1326 possible combinations of starting hands (2.6%)."
   ]
  },
  {
   "cell_type": "markdown",
   "metadata": {},
   "source": [
    "### Hand 2 Analysis:"
   ]
  },
  {
   "cell_type": "markdown",
   "metadata": {},
   "source": [
    "Once again, I’ll use an equity calculator to determine the Hero’s equity.  In this case, the Hero’s hand has 35.84% equity vs. the Villain’s range.\n",
    "\n",
    "Now you can create variables for `EstFoldPercent` and `Equity`. \n"
   ]
  },
  {
   "cell_type": "code",
   "execution_count": 6,
   "metadata": {
    "collapsed": true
   },
   "outputs": [],
   "source": [
    "Hand2_Fold_Percent = .10\n",
    "Hand2_Equity = .3584"
   ]
  },
  {
   "cell_type": "markdown",
   "metadata": {},
   "source": [
    "Now plug the variables for this hand into the `AllinExpectedValue` function, and print the results."
   ]
  },
  {
   "cell_type": "code",
   "execution_count": 7,
   "metadata": {},
   "outputs": [
    {
     "name": "stdout",
     "output_type": "stream",
     "text": [
      "Fold!\n",
      "-1.994284799999999\n"
     ]
    }
   ],
   "source": [
    "Hand2_Decision, Hand2_EV = AllinExpectedValue(Hand2_AllIn_Loses, Hand2_AllIn_Winnings, Hand2_Fold_Winnings, Hand2_Fold_Percent, Hand2_Equity)\n",
    "print(Hand2_Decision)\n",
    "print(Hand2_EV)"
   ]
  },
  {
   "cell_type": "markdown",
   "metadata": {},
   "source": [
    "### Hand 2 Results:\n",
    "\n",
    "![Hand2 Results](https://s3.amazonaws.com/assets.datacamp.com/blog_assets/Probability+%26+Statistics+Python/Part+2/image10.png)\n",
    "\n",
    "**The Hero wins the hand with a set of eights vs. two pairs, Aces and Kings.  This was a lucky result from a decision that would lose money in the long run.  The correct play here is to fold.**"
   ]
  },
  {
   "cell_type": "markdown",
   "metadata": {},
   "source": [
    "## Hand 3 Overview:\n",
    "\n",
    "![Hand3 Overview](https://s3.amazonaws.com/assets.datacamp.com/blog_assets/Probability+%26+Statistics+Python/Part+2/image11.png)\n",
    "\n",
    "- This hand is on the flop, and the Hero is first to act and checks (Hero has 25.08);\n",
    "- The Villain bets 1.06 (Villain has 25.37 remaining);\n",
    "- There is currently 2.66 in the pot.\n",
    "\n",
    "Once again, calling is not a good option, and folding costs nothing.  The Hero must decide if raising in this situation, known as a Semi-Bluff, has a positive expected value.  A Semi-Bluff is when you raise with a drawing hand, in this case a flush draw.  The Hero does not have a made hand, currently only holding an Ace high, but has four Hearts and only needs one more for a flush which is a strong hand. Similarly, to the first hand, the best line of play when raising is to raise small and give the Villain the opportunity to bluff himself.  If the Hero were to just go all in, the Villain would most likely fold a hand like King of Hearts/Jack of Hearts.  \n",
    "\n",
    "- Hero risks 25.08 if All-in;\n",
    "- Hero wins 26.68 if All-in and wins hand;\n",
    "\t- The Villain bet 1.06, so the Hero must match that amount from the remaining 25.08, leaving the Hero with 24.02.  This means the Hero can win an additional 24.02 on top of the 2.66 currently in the pot for a total of 26.68;\n",
    "- Hero wins 2.66 if Villain folds.\n"
   ]
  },
  {
   "cell_type": "code",
   "execution_count": 8,
   "metadata": {
    "collapsed": true
   },
   "outputs": [],
   "source": [
    "Hand3_AllIn_Loses = -25.08\n",
    "Hand3_AllIn_Winnings = 26.68\n",
    "Hand3_Fold_Winnings = 2.66"
   ]
  },
  {
   "cell_type": "markdown",
   "metadata": {},
   "source": [
    "### Hand 3 Relevant Statistics:\n",
    "\n",
    "![Hand3Stats1](https://s3.amazonaws.com/assets.datacamp.com/blog_assets/Probability+%26+Statistics+Python/Part+2/image13.png)\n",
    "![Hand3Stats2](https://s3.amazonaws.com/assets.datacamp.com/blog_assets/Probability+%26+Statistics+Python/Part+2/image14.png)\n",
    "![Hand3Stats3](https://s3.amazonaws.com/assets.datacamp.com/blog_assets/Probability+%26+Statistics+Python/Part+2/image15.png)\n",
    "\n",
    "\n",
    "1. Preflop, the Villain raised and from Middle Position the Villain raises 9% (100+ trails);\n",
    "2. On the flop the Hero checks, and the Villain (who raised preflop) bets again.  This is called a continuation bet (Cbet).  The Villain Cbets 100% (12 trials);\n",
    "3. The Hero is Check-Raising the Villain and when facing a Check-Raise, the Villain folds 67% (3 trials);\n"
   ]
  },
  {
   "cell_type": "markdown",
   "metadata": {},
   "source": [
    "### Hand 3 Assumptions:\n",
    "\n",
    "- Opponents preflop range is ~9-10%, which looks like this:\n",
    "\n",
    "![Hand3 PreFlop Range](https://s3.amazonaws.com/assets.datacamp.com/blog_assets/Probability+%26+Statistics+Python/Part+2/image16.png)\n",
    "\n",
    "- The hands highlighted in yellow represent the Villain’s range, which consists of 128 of the 1326 possible combinations of starting hands (9.7%);\n",
    "- After Cbeting 100% of the time, the Villain folds ~67% of the time to the Hero’s Check-Raise, leaving ~35-45 combinations in the Villains range.  The Villains range looks like this:\n",
    "\n",
    "![Hand3 Flop Range](https://s3.amazonaws.com/assets.datacamp.com/blog_assets/Probability+%26+Statistics+Python/Part+2/image17.png)\n",
    "\n",
    "- This range consists of 35 combinations, and make up the strongest hands from the Villain's pre-flop range.\n",
    "- Some of the hands are different shades of yellow.  There are a couple reasons for this;\n",
    "    1. Card removal - Pocket Aces (AA) normally has six combinations (Diamonds/Clubs, Hearts/Clubs, Spades/Clubs, Hearts/Diamonds, Spades/Diamonds, Spades/Hearts), but the Hero has the Ace of Hearts.  The Villain could only have three combinations of Pocket Aces (Diamonds/Clubs, Spades/Clubs, Spades/Diamonds).\n",
    "    2. Flush Draws - There are four combinations of King/Jack suited (Diamonds, Hearts, Spades, and Clubs), but the Villain would only go All-in with one of those combos (Hearts).\n"
   ]
  },
  {
   "cell_type": "markdown",
   "metadata": {},
   "source": [
    "### Hand 3 Analysis:\n",
    "\n",
    "Once again, I plug the Hero’s hand and the Villain’s range into the equity calculator, this time also entering the 3 flop cards.  The equity calculator indicates that the Hero wins in this situation 43.58%.\n",
    "\n",
    "Now you can create your variables for `EstFoldPercent` and `Equity`.\n"
   ]
  },
  {
   "cell_type": "code",
   "execution_count": 9,
   "metadata": {
    "collapsed": true
   },
   "outputs": [],
   "source": [
    "Hand3_Fold_Percent = .67\n",
    "Hand3_Equity = .4358"
   ]
  },
  {
   "cell_type": "markdown",
   "metadata": {},
   "source": [
    "Now plug the Hand 3 variables into the `AllinExpectedValue` function and print the results."
   ]
  },
  {
   "cell_type": "code",
   "execution_count": 10,
   "metadata": {},
   "outputs": [
    {
     "name": "stdout",
     "output_type": "stream",
     "text": [
      "Raise!\n",
      "0.9496126400000008\n"
     ]
    }
   ],
   "source": [
    "Hand3_Decision, Hand3_EV = AllinExpectedValue(Hand3_AllIn_Loses, Hand3_AllIn_Winnings, Hand3_Fold_Winnings, Hand3_Fold_Percent, Hand3_Equity)\n",
    "print(Hand3_Decision)\n",
    "print(Hand3_EV)"
   ]
  },
  {
   "cell_type": "markdown",
   "metadata": {},
   "source": [
    "### Hand 3 Results:\n",
    "\n",
    "![Hand3 Results](https://s3.amazonaws.com/assets.datacamp.com/blog_assets/Probability+%26+Statistics+Python/Part+2/image18.png)\n",
    "\n",
    "**The Hero wins with and Ace high flush, beating the Villains pair of Tens.**"
   ]
  },
  {
   "cell_type": "markdown",
   "metadata": {},
   "source": [
    "## Conclusion\n",
    "<!-- Add conclusion here ---> "
   ]
  },
  {
   "cell_type": "code",
   "execution_count": null,
   "metadata": {
    "collapsed": true
   },
   "outputs": [],
   "source": []
  }
 ],
 "metadata": {
  "anaconda-cloud": {},
  "kernelspec": {
   "display_name": "Python 3",
   "language": "python",
   "name": "python3"
  },
  "language_info": {
   "codemirror_mode": {
    "name": "ipython",
    "version": 3
   },
   "file_extension": ".py",
   "mimetype": "text/x-python",
   "name": "python",
   "nbconvert_exporter": "python",
   "pygments_lexer": "ipython3",
   "version": "3.6.0"
  }
 },
 "nbformat": 4,
 "nbformat_minor": 1
}
