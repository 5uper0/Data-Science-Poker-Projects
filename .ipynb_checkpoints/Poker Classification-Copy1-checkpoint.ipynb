{
 "cells": [
  {
   "cell_type": "code",
   "execution_count": 108,
   "metadata": {
    "collapsed": true
   },
   "outputs": [],
   "source": [
    "import pandas as pd"
   ]
  },
  {
   "cell_type": "code",
   "execution_count": 109,
   "metadata": {
    "collapsed": false
   },
   "outputs": [],
   "source": [
    "df = pd.read_csv('Report25_vsPlayerFinal.csv', encoding = 'ISO-8859-1')"
   ]
  },
  {
   "cell_type": "code",
   "execution_count": 110,
   "metadata": {
    "collapsed": false
   },
   "outputs": [
    {
     "name": "stdout",
     "output_type": "stream",
     "text": [
      "   Player Alias  Poker Site  Hands  Net Won     VP$IP       PFR      3Bet  \\\n",
      "0      Player 1          19    155   -51.45  0.200000  0.154839  0.021277   \n",
      "1      Player 2           1    176   -23.32  0.420455  0.096591  0.015385   \n",
      "2      Player 3           1   3171   108.30  0.196783  0.121728  0.034636   \n",
      "3      Player 4           1     70     2.53  0.228571  0.142857  0.076923   \n",
      "4      Player 5           2    241    42.23  0.232365  0.082988  0.027027   \n",
      "5      Player 6           1    107   -16.04  0.289720  0.056075  0.000000   \n",
      "6      Player 7          19     70    16.92  0.457143  0.057143  0.038462   \n",
      "7      Player 8           2    198     5.93  0.469697  0.080808  0.012658   \n",
      "8      Player 9           2    116    -4.27  0.284483  0.008621  0.024390   \n",
      "9     Player 10           2     47   -41.49  0.276596  0.000000  0.000000   \n",
      "10    Player 11           2     55    -6.76  0.236364  0.072727  0.000000   \n",
      "11    Player 12           2    125    62.24  0.512000  0.152000  0.133333   \n",
      "12    Player 13           2    222    40.37  0.265766  0.094595  0.012821   \n",
      "13    Player 14           1    281   -14.93  0.103203  0.085409  0.054945   \n",
      "14    Player 15           1     46    -5.88  0.500000  0.304348  0.280000   \n",
      "15    Player 16           2     99    -6.99  0.323232  0.050505  0.000000   \n",
      "16    Player 17          19   1057  -269.21  0.319773  0.243141  0.094972   \n",
      "17    Player 18           2    190    23.93  0.373684  0.031579  0.025641   \n",
      "18    Player 19           2   8165    18.91  0.166197  0.128843  0.039577   \n",
      "19    Player 20           2     49   -16.27  0.142857  0.000000  0.000000   \n",
      "20    Player 21           2     66   -43.87  0.727273  0.106061  0.000000   \n",
      "21    Player 22           2   7665  -150.60  0.111155  0.079061  0.026190   \n",
      "22    Player 23           2     51   -12.05  0.215686  0.117647  0.000000   \n",
      "23    Player 24           1     54    -9.51  0.314815  0.240741  0.000000   \n",
      "24    Player 25          19    390   -87.12  0.289744  0.102564  0.049689   \n",
      "\n",
      "    Postflop\\nAgg%    W$WSF%     WTSD%  Won $\\nat SD  Wins  Losses  Vs. Player  \n",
      "0         0.260870  0.269231  0.269231      0.428571   NaN     NaN         NaN  \n",
      "1         0.466102  0.483871  0.209677      0.307692   NaN     NaN         NaN  \n",
      "2         0.309650  0.412826  0.266533      0.556391   NaN     NaN         NaN  \n",
      "3         0.285714  0.454545  0.363636      0.250000   NaN     NaN         NaN  \n",
      "4         0.468750  0.510204  0.224490      0.818182   NaN     NaN         NaN  \n",
      "5         0.338710  0.413793  0.275862      0.250000   NaN     NaN         NaN  \n",
      "6         0.314815  0.535714  0.178571      0.800000   NaN     NaN         NaN  \n",
      "7         0.414201  0.513158  0.368421      0.571429   NaN     NaN         NaN  \n",
      "8         0.283333  0.571429  0.250000      0.428571   NaN     NaN         NaN  \n",
      "9         0.171429  0.266667  0.266667      0.250000   NaN     NaN         NaN  \n",
      "10        0.208333  0.333333  0.333333      0.000000   NaN     NaN         NaN  \n",
      "11        0.350365  0.525424  0.457627      0.592593   NaN     NaN         NaN  \n",
      "12        0.369369  0.519231  0.326923      0.647059   NaN     NaN         NaN  \n",
      "13        0.204082  0.166667  0.375000      0.444444   NaN     NaN         NaN  \n",
      "14        0.476190  0.421053  0.368421      0.571428   NaN     NaN         NaN  \n",
      "15        0.271186  0.379310  0.344828      0.500000   NaN     NaN         NaN  \n",
      "16        0.486239  0.582160  0.267606      0.298246  21.0    82.0      -50.46  \n",
      "17        0.308176  0.454545  0.469697      0.612903   NaN     NaN         NaN  \n",
      "18        0.353617  0.443195  0.262092      0.480687   NaN     NaN         NaN  \n",
      "19        0.000000  0.200000  0.400000      0.500000   NaN     NaN         NaN  \n",
      "20        0.205357  0.291667  0.375000      0.388889   NaN     NaN         NaN  \n",
      "21        0.377816  0.408867  0.228243      0.525180   NaN     NaN         NaN  \n",
      "22        0.380952  0.400000  0.400000      0.250000   NaN     NaN         NaN  \n",
      "23        0.631579  0.400000  0.000000      0.000000   NaN     NaN         NaN  \n",
      "24        0.308571  0.344444  0.288889      0.230769   5.0    14.0       -8.15  \n",
      "Index(['Player Alias', 'Poker Site', 'Hands', 'Net Won', 'VP$IP', 'PFR',\n",
      "       '3Bet', 'Postflop\\nAgg%', 'W$WSF%', 'WTSD%', 'Won $\\nat SD', 'Wins',\n",
      "       'Losses', 'Vs. Player'],\n",
      "      dtype='object')\n",
      "32627\n"
     ]
    }
   ],
   "source": [
    "print(df.head(25))\n",
    "print(df.columns)\n",
    "print(len(df))"
   ]
  },
  {
   "cell_type": "code",
   "execution_count": 111,
   "metadata": {
    "collapsed": true
   },
   "outputs": [],
   "source": [
    "df.columns = ['Player Alias', 'Poker Site', 'Hands', 'Net Won', 'VP$IP', 'PFR',\n",
    "       '3Bet', 'PostflopAggPercent', 'W$WSFPercent', 'WTSDPercent', 'Won$atSD', 'Wins',\n",
    "       'Losses', 'VsPlayer']"
   ]
  },
  {
   "cell_type": "code",
   "execution_count": 112,
   "metadata": {
    "collapsed": true
   },
   "outputs": [],
   "source": [
    "df['Wins'] = df['Wins'].fillna(0)\n",
    "df['Losses'] = df['Losses'].fillna(0)\n",
    "df['VsPlayer'] = df['VsPlayer'].fillna(0)"
   ]
  },
  {
   "cell_type": "code",
   "execution_count": 113,
   "metadata": {
    "collapsed": false
   },
   "outputs": [],
   "source": [
    "df['HandsVsPlayer'] = df['Wins'] + df['Losses']\n",
    "df['bbPer100h_VsPlayer'] = (df['VsPlayer'] / .25) / (df['HandsVsPlayer'] / 100)"
   ]
  },
  {
   "cell_type": "code",
   "execution_count": 114,
   "metadata": {
    "collapsed": true
   },
   "outputs": [],
   "source": [
    "df['bbPer100h_VsPlayer'] = df['bbPer100h_VsPlayer'].fillna(0)"
   ]
  },
  {
   "cell_type": "code",
   "execution_count": 119,
   "metadata": {
    "collapsed": true
   },
   "outputs": [],
   "source": [
    "test = np.asarray(df['bbPer100h_VsPlayer'])"
   ]
  },
  {
   "cell_type": "code",
   "execution_count": 120,
   "metadata": {
    "collapsed": false
   },
   "outputs": [
    {
     "name": "stdout",
     "output_type": "stream",
     "text": [
      "[]\n"
     ]
    }
   ],
   "source": [
    "test1 = np.isinf(test)\n",
    "i, = np.where(test1==True )\n",
    "print(i)"
   ]
  },
  {
   "cell_type": "code",
   "execution_count": 118,
   "metadata": {
    "collapsed": false
   },
   "outputs": [],
   "source": [
    "df = df.drop(df.index[17219])"
   ]
  },
  {
   "cell_type": "code",
   "execution_count": 123,
   "metadata": {
    "collapsed": false
   },
   "outputs": [
    {
     "data": {
      "text/plain": [
       "29354.029967962553"
      ]
     },
     "execution_count": 123,
     "metadata": {},
     "output_type": "execute_result"
    }
   ],
   "source": [
    "total = df['bbPer100h_VsPlayer'].sum()\n",
    "total"
   ]
  },
  {
   "cell_type": "code",
   "execution_count": 121,
   "metadata": {
    "collapsed": false
   },
   "outputs": [
    {
     "name": "stdout",
     "output_type": "stream",
     "text": [
      "0.8997128047557945\n"
     ]
    }
   ],
   "source": [
    "test = df['bbPer100h_VsPlayer'].mean()\n",
    "print(test)"
   ]
  },
  {
   "cell_type": "code",
   "execution_count": 22,
   "metadata": {
    "collapsed": false
   },
   "outputs": [],
   "source": [
    "opps_df = df[df['HandsVsPlayer'] > 0]"
   ]
  },
  {
   "cell_type": "code",
   "execution_count": 29,
   "metadata": {
    "collapsed": false
   },
   "outputs": [
    {
     "name": "stdout",
     "output_type": "stream",
     "text": [
      "  Player Alias  Poker Site  Hands  Net Won     VP$IP       PFR      3Bet  \\\n",
      "0     Player 1          19    155   -51.45  0.200000  0.154839  0.021277   \n",
      "1     Player 2           1    176   -23.32  0.420455  0.096591  0.015385   \n",
      "2     Player 3           1   3171   108.30  0.196783  0.121728  0.034636   \n",
      "3     Player 4           1     70     2.53  0.228571  0.142857  0.076923   \n",
      "4     Player 5           2    241    42.23  0.232365  0.082988  0.027027   \n",
      "\n",
      "   PostflopAggPercent  W$WSFPercent  WTSDPercent  Won$atSD  Wins  Losses  \\\n",
      "0            0.260870      0.269231     0.269231  0.428571   0.0     0.0   \n",
      "1            0.466102      0.483871     0.209677  0.307692   0.0     0.0   \n",
      "2            0.309650      0.412826     0.266533  0.556391   0.0     0.0   \n",
      "3            0.285714      0.454545     0.363636  0.250000   0.0     0.0   \n",
      "4            0.468750      0.510204     0.224490  0.818182   0.0     0.0   \n",
      "\n",
      "   VsPlayer  HandsVsPlayer  bbPer100h_VsPlayer  \n",
      "0       0.0            0.0                 0.0  \n",
      "1       0.0            0.0                 0.0  \n",
      "2       0.0            0.0                 0.0  \n",
      "3       0.0            0.0                 0.0  \n",
      "4       0.0            0.0                 0.0  \n"
     ]
    }
   ],
   "source": [
    "print(df.head())"
   ]
  },
  {
   "cell_type": "code",
   "execution_count": 52,
   "metadata": {
    "collapsed": true
   },
   "outputs": [],
   "source": [
    "import numpy as np"
   ]
  }
 ],
 "metadata": {
  "anaconda-cloud": {},
  "kernelspec": {
   "display_name": "Python [conda root]",
   "language": "python",
   "name": "conda-root-py"
  },
  "language_info": {
   "codemirror_mode": {
    "name": "ipython",
    "version": 3
   },
   "file_extension": ".py",
   "mimetype": "text/x-python",
   "name": "python",
   "nbconvert_exporter": "python",
   "pygments_lexer": "ipython3",
   "version": "3.5.2"
  }
 },
 "nbformat": 4,
 "nbformat_minor": 1
}
