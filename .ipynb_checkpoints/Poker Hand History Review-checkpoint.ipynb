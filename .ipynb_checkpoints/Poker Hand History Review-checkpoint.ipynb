{
 "cells": [
  {
   "cell_type": "markdown",
   "metadata": {},
   "source": [
    "In the business world, Data Science is used to make predictions and optimize decisions by creating machine learning models.  In online poker, the decision that needs to be made is whether to bet, call, or fold, but you aren’t allowed to use software to make that decision for you.  At most online poker sites, that is where the line is drawn in the rules.  This means that the model that must be trained is your brain, and the training is done away from the table with an endless stream of equity calculations.  Anytime I ran into a situation while playing that confused me, I would mark the hand for review later. After my poker playing session was done, I'd go back through the hands that I'd marked for review and break them down mathamatically so I'd have a better idea of what to do in each situation the next time it arose.\n",
    "\n",
    "Here is an example:\n",
    "\n",
    "- When reviewing poker hands, it is common to refer to our opponent as the \"Villian\" and ourselves as the \"Hero.\"\n",
    "- Hero has: ![10h10s](http://i1285.photobucket.com/albums/a584/daniel_poston1/2017-08-05_15h45_51_zpslbtjsz3r.png)\n",
    "- Hero bet 0.85 (Hero has 20.95 remaining);\n",
    "- Opponent (Villian) raises to 2.50 (Villian has 30.35 remaining);\n",
    "    - In poker termanology, this is called a 3bet.  The small blind and big blind make the first bet, and I raised them which was the second bet.\n",
    "- There is currently 3.70 Total in the Pot;\n",
    "\n",
    "\n",
    "Calling is not a good option for reasons that are beyond the scope of this blog post.  We must decide between raising with the plan of going ‘All-In’ or folding.  Folding costs nothing so we will analyze the expected value of going all in.  In this situation, I’d make a small raise to induce my opponent to ‘All-in’ bluff, but we need to do the calculation as if I’m going ‘All-in’ since that is the plan, so;\n",
    "\n",
    "- Hero risks 20.95 if All-in and loses;\n",
    "- Hero wins 23 if All-in and wins;\n",
    "- Hero wins 3.70 if Villian folds.\n"
   ]
  },
  {
   "cell_type": "code",
   "execution_count": 36,
   "metadata": {
    "collapsed": true
   },
   "outputs": [],
   "source": [
    "LoseAllIn = -20.95\n",
    "WinAllIn = 23\n",
    "WinVillianFolds = 3.7"
   ]
  },
  {
   "cell_type": "markdown",
   "metadata": {},
   "source": [
    "Poker is a game of deductive reasoning based on incomplete information.  Here is the information you have on this opponent:\n",
    "\n",
    "- The Villian is in the Button position which is the first position to the right of the small and big blinds.  Overall, from this position, villian 3bets 7.4% (27 trials);\n",
    "- Hero is in the Cut-Off position, which is the first position to the right of the Button.  Overall, vs. the Cut-Off, villian 3bets 12.5% (16 trials);\n",
    "- When Villian is in the Button vs. a pre-flop raise from the Cut-Off, villian 3bets 25% (4 trials);\n",
    "- When Villian 3bets pre-flop and faces a raise, he folds 50% of the time (2 trials)."
   ]
  },
  {
   "cell_type": "markdown",
   "metadata": {},
   "source": [
    "Based on the above statistics, I’m going to make the following assumptions which are educated guesses;\n",
    "\n",
    "- Villian raises to 2.50 with about (~) 13-15% of the range of possible starting hands;\n",
    "- Villian folds to a re-raise ~ 25% of the time and goes ‘All-in’ ~75% of the time;\n",
    "- Villian re-raises ‘All-In’ with a ~10% range, which looks like this: ![9.7% range](http://i1285.photobucket.com/albums/a584/daniel_poston1/8631ed1b5994a96355742fb0a3c85403_zpsjq4uqqpj.png)\n"
   ]
  },
  {
   "cell_type": "markdown",
   "metadata": {},
   "source": [
    "\n",
    "- The hands highlighted in yellow represent the Villian's range, which consists of 128 of the 1326 possible combinations of starting hands (9.7%);\n",
    "- If you’re wondering why A5s and A2s are in the range, those represent Villian’s bluff hands.\n",
    "\n",
    "Now that I have Villian’s range, I can plug the Hero's hand (10h10s) and the Villian’s range into an [equity calculator](http://www.acepokersolutions.com/Poker-equity-calculator/).  The equity calculator simulates 10h10s vs. Villian’s range thousands of times and determines that the Hero wins ~53.77% of the time.  Now it’s a simple calculation.  You need to build a function that represents the following equation:\n"
   ]
  },
  {
   "cell_type": "markdown",
   "metadata": {},
   "source": [
    "- $ifVillianFolds = (WinVillianFolds * EstimatedFoldPercent)$\n",
    "- $ifVillianAllin = ((WinAllIn * Equity) + (LoseAllIn * (1 - Equity))) * (1 - EstimatedFoldPercent)$\n",
    "- $AllinExpectedValue = ifVillianFolds + ifVillianAllin$\n",
    "\n",
    "Now you can create variables for `EstFoldPercent` and `Equity`, and then create your `AllinExpectedValue` function."
   ]
  },
  {
   "cell_type": "code",
   "execution_count": 37,
   "metadata": {
    "collapsed": true
   },
   "outputs": [],
   "source": [
    "EstFoldPercent = .25\n",
    "Equity = .538"
   ]
  },
  {
   "cell_type": "code",
   "execution_count": 38,
   "metadata": {
    "collapsed": false
   },
   "outputs": [],
   "source": [
    "def AllinExpectedValue(LoseAllIn, WinAllIn, WinVillianFolds, EstFoldPercent, Equity):\n",
    "    ifVillianFolds = (WinVillianFolds * EstFoldPercent)\n",
    "    ifVillianAllin = ((WinAllIn * Equity) + (LoseAllIn * (1 - Equity))) * (1 - EstFoldPercent)\n",
    "    AllinExpectedValue = ifVillianFolds + ifVillianAllin\n",
    "    if AllinExpectedValue > 0:\n",
    "        return AllinExpectedValue, 'Raise!'\n",
    "    else:\n",
    "        return AllinExpectedValue, 'Fold!'\n",
    "                                            "
   ]
  },
  {
   "cell_type": "code",
   "execution_count": 39,
   "metadata": {
    "collapsed": false
   },
   "outputs": [
    {
     "data": {
      "text/plain": [
       "(2.9463250000000016, 'Raise!')"
      ]
     },
     "execution_count": 39,
     "metadata": {},
     "output_type": "execute_result"
    }
   ],
   "source": [
    "AllinExpectedValue(LoseAllIn, WinAllIn, WinVillianFolds, EstFoldPercent, Equity)"
   ]
  },
  {
   "cell_type": "markdown",
   "metadata": {},
   "source": [
    "### Hand 2 (using custom class):"
   ]
  },
  {
   "cell_type": "code",
   "execution_count": 41,
   "metadata": {
    "collapsed": true
   },
   "outputs": [],
   "source": [
    "class Poker(object):\n",
    "    def __init__(self, risk, reward):\n",
    "        self.risk = risk\n",
    "        self.reward = reward\n",
    "        \n",
    "    def expected_value(self, equity):\n",
    "        self.equity = equity\n",
    "        self.ev = (self.reward * self.equity) + (self.risk * (1 - self.equity))\n",
    "        return self.ev\n",
    "        "
   ]
  },
  {
   "cell_type": "code",
   "execution_count": 42,
   "metadata": {
    "collapsed": false
   },
   "outputs": [
    {
     "data": {
      "text/plain": [
       "0.4040000000000017"
      ]
     },
     "execution_count": 42,
     "metadata": {},
     "output_type": "execute_result"
    }
   ],
   "source": [
    "AhQh = Poker(-20.30, 31.46)\n",
    "AhQh.expected_value(.4)"
   ]
  }
 ],
 "metadata": {
  "anaconda-cloud": {},
  "kernelspec": {
   "display_name": "Python [default]",
   "language": "python",
   "name": "python3"
  },
  "language_info": {
   "codemirror_mode": {
    "name": "ipython",
    "version": 3
   },
   "file_extension": ".py",
   "mimetype": "text/x-python",
   "name": "python",
   "nbconvert_exporter": "python",
   "pygments_lexer": "ipython3",
   "version": "3.5.2"
  }
 },
 "nbformat": 4,
 "nbformat_minor": 1
}
