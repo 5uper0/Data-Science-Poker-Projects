{
 "cells": [
  {
   "cell_type": "code",
   "execution_count": 1,
   "metadata": {
    "collapsed": true
   },
   "outputs": [],
   "source": [
    "import pandas as pd"
   ]
  },
  {
   "cell_type": "code",
   "execution_count": 32,
   "metadata": {
    "collapsed": false
   },
   "outputs": [],
   "source": [
    "df = pd.read_csv('nl25_vs_Player.csv', encoding = 'ISO-8859-1')"
   ]
  },
  {
   "cell_type": "code",
   "execution_count": 33,
   "metadata": {
    "collapsed": false
   },
   "outputs": [
    {
     "name": "stdout",
     "output_type": "stream",
     "text": [
      "   Unnamed: 0 Player.Name  Site  Hands  Net.Won     VP.IP       PFR     X3Bet  \\\n",
      "0           1           8    19    155   -51.45  0.200000  0.154839  0.021277   \n",
      "1           2         489     1    176   -23.32  0.420455  0.096591  0.015385   \n",
      "2           3        1212     1   3171   108.30  0.196783  0.121728  0.034636   \n",
      "3           4        2508     1     70     2.53  0.228571  0.142857  0.076923   \n",
      "4           5    15692.88     2    241    42.23  0.232365  0.082988  0.027027   \n",
      "\n",
      "   Postflop.Agg.    W.WSF.    ...     vs.4Bet.Fold  vs.4Bet.Call  \\\n",
      "0       0.260870  0.269231    ...              0.0           0.0   \n",
      "1       0.466102  0.483871    ...              0.0           0.0   \n",
      "2       0.309650  0.412826    ...              0.0           0.5   \n",
      "3       0.285714  0.454545    ...              0.0           0.0   \n",
      "4       0.468750  0.510204    ...              0.0           0.0   \n",
      "\n",
      "   vs.4Bet.Raise  Wins  Losses  Vs..Player   X  bb_won  bb_won_per100h  \\\n",
      "0            0.0   NaN     NaN         NaN NaN -205.80     -132.774193   \n",
      "1            0.0   NaN     NaN         NaN NaN  -93.28      -53.000000   \n",
      "2            0.5   NaN     NaN         NaN NaN  433.20       13.661306   \n",
      "3            0.0   NaN     NaN         NaN NaN   10.12       14.457143   \n",
      "4            0.0   NaN     NaN         NaN NaN  168.92       70.091286   \n",
      "\n",
      "   pfr_rate  \n",
      "0  0.774194  \n",
      "1  0.229730  \n",
      "2  0.618590  \n",
      "3  0.625000  \n",
      "4  0.357143  \n",
      "\n",
      "[5 rows x 37 columns]\n",
      "Index(['Unnamed: 0', 'Player.Name', 'Site', 'Hands', 'Net.Won', 'VP.IP', 'PFR',\n",
      "       'X3Bet', 'Postflop.Agg.', 'W.WSF.', 'WTSD.', 'Won...at.SD',\n",
      "       'Flop.CBet.', 'Turn.CBet.', 'River.CBet.', 'Fold.to.Flop.Cbet',\n",
      "       'Fold.to.Turn.CBet', 'Fold.to.River.CBet', 'Raise.Flop.Cbet',\n",
      "       'Raise.Turn.CBet', 'Raise.River.CBet', 'Squeeze', 'Raise.Two.Raisers',\n",
      "       'Call.Two.Raisers', 'vs.3Bet.Fold', 'vs.3Bet.Call', 'vs.3Bet.Raise',\n",
      "       'vs.4Bet.Fold', 'vs.4Bet.Call', 'vs.4Bet.Raise', 'Wins', 'Losses',\n",
      "       'Vs..Player', 'X', 'bb_won', 'bb_won_per100h', 'pfr_rate'],\n",
      "      dtype='object')\n",
      "32641\n"
     ]
    }
   ],
   "source": [
    "print(df.head())\n",
    "print(df.columns)\n",
    "print(len(df))"
   ]
  },
  {
   "cell_type": "code",
   "execution_count": 34,
   "metadata": {
    "collapsed": true
   },
   "outputs": [],
   "source": [
    "df['Wins'] = df['Wins'].fillna(0)\n",
    "df['Losses'] = df['Losses'].fillna(0)\n",
    "df['Vs..Player'] = df['Vs..Player'].fillna(0)"
   ]
  },
  {
   "cell_type": "code",
   "execution_count": 27,
   "metadata": {
    "collapsed": false
   },
   "outputs": [
    {
     "ename": "ValueError",
     "evalue": "could not convert string to float: ",
     "output_type": "error",
     "traceback": [
      "\u001b[0;31m---------------------------------------------------------------------------\u001b[0m",
      "\u001b[0;31mValueError\u001b[0m                                Traceback (most recent call last)",
      "\u001b[0;32m<ipython-input-27-1d4d7bff5aac>\u001b[0m in \u001b[0;36m<module>\u001b[0;34m()\u001b[0m\n\u001b[0;32m----> 1\u001b[0;31m \u001b[0mprint\u001b[0m\u001b[1;33m(\u001b[0m\u001b[0mdf\u001b[0m\u001b[1;33m[\u001b[0m\u001b[1;34m'Losses'\u001b[0m\u001b[1;33m]\u001b[0m\u001b[1;33m.\u001b[0m\u001b[0mastype\u001b[0m\u001b[1;33m(\u001b[0m\u001b[0mfloat\u001b[0m\u001b[1;33m)\u001b[0m\u001b[1;33m)\u001b[0m\u001b[1;33m\u001b[0m\u001b[0m\n\u001b[0m",
      "\u001b[0;32mC:\\Users\\GamingFoSho\\Anaconda3\\lib\\site-packages\\pandas\\core\\generic.py\u001b[0m in \u001b[0;36mastype\u001b[0;34m(self, dtype, copy, raise_on_error, **kwargs)\u001b[0m\n\u001b[1;32m   2948\u001b[0m \u001b[1;33m\u001b[0m\u001b[0m\n\u001b[1;32m   2949\u001b[0m         mgr = self._data.astype(dtype=dtype, copy=copy,\n\u001b[0;32m-> 2950\u001b[0;31m                                 raise_on_error=raise_on_error, **kwargs)\n\u001b[0m\u001b[1;32m   2951\u001b[0m         \u001b[1;32mreturn\u001b[0m \u001b[0mself\u001b[0m\u001b[1;33m.\u001b[0m\u001b[0m_constructor\u001b[0m\u001b[1;33m(\u001b[0m\u001b[0mmgr\u001b[0m\u001b[1;33m)\u001b[0m\u001b[1;33m.\u001b[0m\u001b[0m__finalize__\u001b[0m\u001b[1;33m(\u001b[0m\u001b[0mself\u001b[0m\u001b[1;33m)\u001b[0m\u001b[1;33m\u001b[0m\u001b[0m\n\u001b[1;32m   2952\u001b[0m \u001b[1;33m\u001b[0m\u001b[0m\n",
      "\u001b[0;32mC:\\Users\\GamingFoSho\\Anaconda3\\lib\\site-packages\\pandas\\core\\internals.py\u001b[0m in \u001b[0;36mastype\u001b[0;34m(self, dtype, **kwargs)\u001b[0m\n\u001b[1;32m   2936\u001b[0m \u001b[1;33m\u001b[0m\u001b[0m\n\u001b[1;32m   2937\u001b[0m     \u001b[1;32mdef\u001b[0m \u001b[0mastype\u001b[0m\u001b[1;33m(\u001b[0m\u001b[0mself\u001b[0m\u001b[1;33m,\u001b[0m \u001b[0mdtype\u001b[0m\u001b[1;33m,\u001b[0m \u001b[1;33m**\u001b[0m\u001b[0mkwargs\u001b[0m\u001b[1;33m)\u001b[0m\u001b[1;33m:\u001b[0m\u001b[1;33m\u001b[0m\u001b[0m\n\u001b[0;32m-> 2938\u001b[0;31m         \u001b[1;32mreturn\u001b[0m \u001b[0mself\u001b[0m\u001b[1;33m.\u001b[0m\u001b[0mapply\u001b[0m\u001b[1;33m(\u001b[0m\u001b[1;34m'astype'\u001b[0m\u001b[1;33m,\u001b[0m \u001b[0mdtype\u001b[0m\u001b[1;33m=\u001b[0m\u001b[0mdtype\u001b[0m\u001b[1;33m,\u001b[0m \u001b[1;33m**\u001b[0m\u001b[0mkwargs\u001b[0m\u001b[1;33m)\u001b[0m\u001b[1;33m\u001b[0m\u001b[0m\n\u001b[0m\u001b[1;32m   2939\u001b[0m \u001b[1;33m\u001b[0m\u001b[0m\n\u001b[1;32m   2940\u001b[0m     \u001b[1;32mdef\u001b[0m \u001b[0mconvert\u001b[0m\u001b[1;33m(\u001b[0m\u001b[0mself\u001b[0m\u001b[1;33m,\u001b[0m \u001b[1;33m**\u001b[0m\u001b[0mkwargs\u001b[0m\u001b[1;33m)\u001b[0m\u001b[1;33m:\u001b[0m\u001b[1;33m\u001b[0m\u001b[0m\n",
      "\u001b[0;32mC:\\Users\\GamingFoSho\\Anaconda3\\lib\\site-packages\\pandas\\core\\internals.py\u001b[0m in \u001b[0;36mapply\u001b[0;34m(self, f, axes, filter, do_integrity_check, consolidate, raw, **kwargs)\u001b[0m\n\u001b[1;32m   2888\u001b[0m \u001b[1;33m\u001b[0m\u001b[0m\n\u001b[1;32m   2889\u001b[0m             \u001b[0mkwargs\u001b[0m\u001b[1;33m[\u001b[0m\u001b[1;34m'mgr'\u001b[0m\u001b[1;33m]\u001b[0m \u001b[1;33m=\u001b[0m \u001b[0mself\u001b[0m\u001b[1;33m\u001b[0m\u001b[0m\n\u001b[0;32m-> 2890\u001b[0;31m             \u001b[0mapplied\u001b[0m \u001b[1;33m=\u001b[0m \u001b[0mgetattr\u001b[0m\u001b[1;33m(\u001b[0m\u001b[0mb\u001b[0m\u001b[1;33m,\u001b[0m \u001b[0mf\u001b[0m\u001b[1;33m)\u001b[0m\u001b[1;33m(\u001b[0m\u001b[1;33m**\u001b[0m\u001b[0mkwargs\u001b[0m\u001b[1;33m)\u001b[0m\u001b[1;33m\u001b[0m\u001b[0m\n\u001b[0m\u001b[1;32m   2891\u001b[0m             \u001b[0mresult_blocks\u001b[0m \u001b[1;33m=\u001b[0m \u001b[0m_extend_blocks\u001b[0m\u001b[1;33m(\u001b[0m\u001b[0mapplied\u001b[0m\u001b[1;33m,\u001b[0m \u001b[0mresult_blocks\u001b[0m\u001b[1;33m)\u001b[0m\u001b[1;33m\u001b[0m\u001b[0m\n\u001b[1;32m   2892\u001b[0m \u001b[1;33m\u001b[0m\u001b[0m\n",
      "\u001b[0;32mC:\\Users\\GamingFoSho\\Anaconda3\\lib\\site-packages\\pandas\\core\\internals.py\u001b[0m in \u001b[0;36mastype\u001b[0;34m(self, dtype, copy, raise_on_error, values, **kwargs)\u001b[0m\n\u001b[1;32m    432\u001b[0m                **kwargs):\n\u001b[1;32m    433\u001b[0m         return self._astype(dtype, copy=copy, raise_on_error=raise_on_error,\n\u001b[0;32m--> 434\u001b[0;31m                             values=values, **kwargs)\n\u001b[0m\u001b[1;32m    435\u001b[0m \u001b[1;33m\u001b[0m\u001b[0m\n\u001b[1;32m    436\u001b[0m     def _astype(self, dtype, copy=False, raise_on_error=True, values=None,\n",
      "\u001b[0;32mC:\\Users\\GamingFoSho\\Anaconda3\\lib\\site-packages\\pandas\\core\\internals.py\u001b[0m in \u001b[0;36m_astype\u001b[0;34m(self, dtype, copy, raise_on_error, values, klass, mgr, **kwargs)\u001b[0m\n\u001b[1;32m    475\u001b[0m \u001b[1;33m\u001b[0m\u001b[0m\n\u001b[1;32m    476\u001b[0m                 \u001b[1;31m# _astype_nansafe works fine with 1-d only\u001b[0m\u001b[1;33m\u001b[0m\u001b[1;33m\u001b[0m\u001b[0m\n\u001b[0;32m--> 477\u001b[0;31m                 \u001b[0mvalues\u001b[0m \u001b[1;33m=\u001b[0m \u001b[0mcom\u001b[0m\u001b[1;33m.\u001b[0m\u001b[0m_astype_nansafe\u001b[0m\u001b[1;33m(\u001b[0m\u001b[0mvalues\u001b[0m\u001b[1;33m.\u001b[0m\u001b[0mravel\u001b[0m\u001b[1;33m(\u001b[0m\u001b[1;33m)\u001b[0m\u001b[1;33m,\u001b[0m \u001b[0mdtype\u001b[0m\u001b[1;33m,\u001b[0m \u001b[0mcopy\u001b[0m\u001b[1;33m=\u001b[0m\u001b[1;32mTrue\u001b[0m\u001b[1;33m)\u001b[0m\u001b[1;33m\u001b[0m\u001b[0m\n\u001b[0m\u001b[1;32m    478\u001b[0m                 \u001b[0mvalues\u001b[0m \u001b[1;33m=\u001b[0m \u001b[0mvalues\u001b[0m\u001b[1;33m.\u001b[0m\u001b[0mreshape\u001b[0m\u001b[1;33m(\u001b[0m\u001b[0mself\u001b[0m\u001b[1;33m.\u001b[0m\u001b[0mshape\u001b[0m\u001b[1;33m)\u001b[0m\u001b[1;33m\u001b[0m\u001b[0m\n\u001b[1;32m    479\u001b[0m \u001b[1;33m\u001b[0m\u001b[0m\n",
      "\u001b[0;32mC:\\Users\\GamingFoSho\\Anaconda3\\lib\\site-packages\\pandas\\core\\common.py\u001b[0m in \u001b[0;36m_astype_nansafe\u001b[0;34m(arr, dtype, copy)\u001b[0m\n\u001b[1;32m   1918\u001b[0m \u001b[1;33m\u001b[0m\u001b[0m\n\u001b[1;32m   1919\u001b[0m     \u001b[1;32mif\u001b[0m \u001b[0mcopy\u001b[0m\u001b[1;33m:\u001b[0m\u001b[1;33m\u001b[0m\u001b[0m\n\u001b[0;32m-> 1920\u001b[0;31m         \u001b[1;32mreturn\u001b[0m \u001b[0marr\u001b[0m\u001b[1;33m.\u001b[0m\u001b[0mastype\u001b[0m\u001b[1;33m(\u001b[0m\u001b[0mdtype\u001b[0m\u001b[1;33m)\u001b[0m\u001b[1;33m\u001b[0m\u001b[0m\n\u001b[0m\u001b[1;32m   1921\u001b[0m     \u001b[1;32mreturn\u001b[0m \u001b[0marr\u001b[0m\u001b[1;33m.\u001b[0m\u001b[0mview\u001b[0m\u001b[1;33m(\u001b[0m\u001b[0mdtype\u001b[0m\u001b[1;33m)\u001b[0m\u001b[1;33m\u001b[0m\u001b[0m\n\u001b[1;32m   1922\u001b[0m \u001b[1;33m\u001b[0m\u001b[0m\n",
      "\u001b[0;31mValueError\u001b[0m: could not convert string to float: "
     ]
    }
   ],
   "source": [
    "print(df['Losses'].astype(float))"
   ]
  },
  {
   "cell_type": "code",
   "execution_count": 35,
   "metadata": {
    "collapsed": false
   },
   "outputs": [
    {
     "name": "stdout",
     "output_type": "stream",
     "text": [
      "[   0.   82.   14.    6.   16.   33.   12.   19.    9.    3.    8.    7.\n",
      "   20.   30.   24.   17.   18.   11.    5.  212.   76.   13.   23.    4.\n",
      "   67.   10.   21.   57.   38.   41.   15.   85.   80.   26.   22.   27.\n",
      "   39.   81.   29.   28.   49.   95.   25.   97.   51.  195.   65.    2.\n",
      "  154.  159.   32.   50.   35.   40.   59.   34.   31.   37.  138.   61.\n",
      "  117.  102.   53.   83.   63.   56.   86.   36.   52.   45.   72.   90.\n",
      "  157.   43.   46.  205.  105.   42.  207.   62.   55.  372.  370.   79.\n",
      "  153.  110.    1.   58.   44.  100.   68.   66.   60.   96.  115.  282.\n",
      "   47.  238.  222.  215.   74.   71.  161.  229.  180.  265.  181.   93.\n",
      "   99.  261.  186.  107.  113.  319.   78.  165.  133.   69.  139.   89.\n",
      "  493.   48.  206.   94.  125.  813.  356.  118.   54.   84.   87.   70.\n",
      "  214.  330.   92.  432.  163.   98.  634.  748.  201.  531.  143.  116.\n",
      "  112.  146.  124.  151.  162.  141.  106.  128.  561.  224.]\n"
     ]
    }
   ],
   "source": [
    "print(df['Losses'].unique())"
   ]
  },
  {
   "cell_type": "code",
   "execution_count": 37,
   "metadata": {
    "collapsed": false
   },
   "outputs": [],
   "source": [
    "opps_df = df[(df['Wins'] > 0) | (df['Losses'] > 0)]"
   ]
  },
  {
   "cell_type": "code",
   "execution_count": 59,
   "metadata": {
    "collapsed": true
   },
   "outputs": [],
   "source": [
    "attributes = ['VP.IP', 'PFR',\n",
    "       'X3Bet', 'Postflop.Agg.', 'W.WSF.', 'WTSD.', 'Won...at.SD',\n",
    "       'Flop.CBet.', 'vs.3Bet.Fold', 'pfr_rate']\n",
    "x = df[attributes]\n",
    "y = df['Fish']"
   ]
  },
  {
   "cell_type": "code",
   "execution_count": 60,
   "metadata": {
    "collapsed": false
   },
   "outputs": [
    {
     "name": "stdout",
     "output_type": "stream",
     "text": [
      "[0 0 0 0 1 0 0 0 0 0 0 0 0 0 0 0 1 0 0 0 0 0 0 0 0 0 0 1 0 0 0 0 0 0 0 0 0\n",
      " 0 0 0 0 0 0 0 0 0 0 1 0 0 1 0 0 0 0 0 0 0 0 0 0 0 0 0 0 0 0 0 0 0 0 0 0 0\n",
      " 0 0 0 0 0 0 0 0 0 0 0 0 0 0 0 0 0 0 0 1 0 0 0 0 0 0 0 0 0 0 0 0 0 0 0 0 0\n",
      " 0 0 0 0 0 0 0 0 0 1 0 0 0 0 0 0 0 0 0 0 0 1 0 0 0 0 0 0 0 0 0 0 0 0 0 0 0\n",
      " 0 0 0 0 0 0 0 0 0 0 0 0 0 0 0 0 1 0 0 0 0 0 0 0 0 0 0 0 0 0 0 0 0 0 0 0 0\n",
      " 0 0 0 0 0 0 0 0 1 0 0 0 0 0 0 0 0 0 0 0 0 0 0 0 0 0 0 0 0 0 1 0 0 0 0 0 1\n",
      " 0 0 0 0 0 0 0 0 0 0 1 0 0 0 0 0 0 0 0 0 0 0 0 0 0 0 0 0 0 0 0 0 0 0 0 0 0\n",
      " 0 0 0 0 0 0 0 0 0 0 0 0 0 0 0 0 0 0 0 0 0 0 0 0 0 0 0 0 0 0 0 0 1 0 0 0 0\n",
      " 0 0 0 0 0 0 0 1 0 0 1 0 0 0 0 0 0 0 0 0 1 0 0 0 1 1 0 0 0 0 0 0 0 0 0 0 0\n",
      " 0 0 0 0 0 0 0 0 0 0 0 0 0 0 0 0 1 0 0 0 0 0 0 0 1 0 0 0 0 0 0 0 0 0 0 0 0\n",
      " 1 0 0 0 0 0 0 0 1 0 0 0 0 0 0 0 0 0 0 0 0 0 0 0 0 0 0 0 1 0 0 1 0 0 0 0 0\n",
      " 0 0 1 0 0 0 0 0 0 0 0 0 0 0 0 0 0 0 0 0 0 0 0 0 0 0 0 1 0 0 0 0 0 0 0 0 0\n",
      " 0 0 0 0 0 0 0 0 1 0 0 0 0 0 1 0 1 0 0 0 0 0 0 0 0 0 0 0 0 1 1 0 1 0 0 0 0\n",
      " 0 0 0 0 0 0 0 0 0 0 0 1 0 0 0 0 0 0 1 0 0 1 0 0 0 0 0 0 0 0 0 1 0 0 0 0 0\n",
      " 0 0 0 0 0 0 0 1 0 0 0 0 0 0 0 0 0 0 0 0 0 0 0 0 0 0 0 0 0 0 0 0 0 1 0 0 0\n",
      " 0 0 0 0 0 0 0 0 0 0 0 0 0 0 0 0 0 0 0 0 0 0 0 0 0 0 0 0 0 0 0 1 0 0 0 0 0\n",
      " 0 0 1 1 0 0 0 0 0 0 0 0 0 0 0 0 0 0 0 0 0]\n",
      "613\n"
     ]
    }
   ],
   "source": [
    "from sklearn.neighbors import KNeighborsClassifier\n",
    "\n",
    "knn = KNeighborsClassifier(n_neighbors=5)\n",
    "knn.fit(x, y)\n",
    "predictions = knn.predict(x)\n",
    "print(predictions)\n",
    "print(len(predictions))"
   ]
  },
  {
   "cell_type": "code",
   "execution_count": 61,
   "metadata": {
    "collapsed": false
   },
   "outputs": [
    {
     "name": "stdout",
     "output_type": "stream",
     "text": [
      "   Unnamed: 0  Player.Name  Site   Hands  Net.Won     VP.IP       PFR  \\\n",
      "0           1  GamingF0Sho    19  297452  1247.98  0.156207  0.120238   \n",
      "1           2  GamingFoSho     2   82499   525.41  0.147929  0.119650   \n",
      "2           3   royman0785     2   61132     9.95  0.121917  0.111006   \n",
      "3           4  GamingF0Sho     0   46930   278.98  0.160260  0.121457   \n",
      "4           5     johan75a     2   43197   401.03  0.126560  0.026692   \n",
      "\n",
      "      X3Bet  Postflop.Agg.    W.WSF.     ...       vs.4Bet.Call  \\\n",
      "0  0.039258       0.343325  0.417255     ...           0.198214   \n",
      "1  0.039949       0.364008  0.440495     ...           0.278351   \n",
      "2  0.042426       0.286842  0.394204     ...           0.409091   \n",
      "3  0.035434       0.303525  0.392603     ...           0.375000   \n",
      "4  0.019904       0.379998  0.439844     ...           0.514286   \n",
      "\n",
      "   vs.4Bet.Raise   bb_won  bb_won_per100h  pfr_rate  bad_player  agg_player  \\\n",
      "0       0.255357  4991.92        1.678227  0.769736           0           1   \n",
      "1       0.164948  2101.64        2.547473  0.808833           0           1   \n",
      "2       0.238636    39.80        0.065105  0.910506           0           1   \n",
      "3       0.138889  1115.92        2.377839  0.757878           0           1   \n",
      "4       0.200000  1604.12        3.713499  0.210902           0           0   \n",
      "\n",
      "   Fish          player  predictions  \n",
      "0     0  GamingF0Sho 19            0  \n",
      "1     0   GamingFoSho 2            0  \n",
      "2     0    royman0785 2            0  \n",
      "3     0   GamingF0Sho 0            0  \n",
      "4     0      johan75a 2            1  \n",
      "\n",
      "[5 rows x 38 columns]\n"
     ]
    }
   ],
   "source": [
    "df['predictions'] = predictions\n",
    "print(df.head())"
   ]
  },
  {
   "cell_type": "code",
   "execution_count": 62,
   "metadata": {
    "collapsed": true
   },
   "outputs": [],
   "source": [
    "df_fish = df[df['predictions'] == 1]"
   ]
  },
  {
   "cell_type": "code",
   "execution_count": 63,
   "metadata": {
    "collapsed": false
   },
   "outputs": [
    {
     "data": {
      "text/html": [
       "<div>\n",
       "<table border=\"1\" class=\"dataframe\">\n",
       "  <thead>\n",
       "    <tr style=\"text-align: right;\">\n",
       "      <th></th>\n",
       "      <th>Unnamed: 0</th>\n",
       "      <th>Site</th>\n",
       "      <th>Hands</th>\n",
       "      <th>Net.Won</th>\n",
       "      <th>VP.IP</th>\n",
       "      <th>PFR</th>\n",
       "      <th>X3Bet</th>\n",
       "      <th>Postflop.Agg.</th>\n",
       "      <th>W.WSF.</th>\n",
       "      <th>WTSD.</th>\n",
       "      <th>...</th>\n",
       "      <th>vs.4Bet.Fold</th>\n",
       "      <th>vs.4Bet.Call</th>\n",
       "      <th>vs.4Bet.Raise</th>\n",
       "      <th>bb_won</th>\n",
       "      <th>bb_won_per100h</th>\n",
       "      <th>pfr_rate</th>\n",
       "      <th>bad_player</th>\n",
       "      <th>agg_player</th>\n",
       "      <th>Fish</th>\n",
       "      <th>predictions</th>\n",
       "    </tr>\n",
       "  </thead>\n",
       "  <tbody>\n",
       "    <tr>\n",
       "      <th>count</th>\n",
       "      <td>42.000000</td>\n",
       "      <td>42.000000</td>\n",
       "      <td>42.000000</td>\n",
       "      <td>42.000000</td>\n",
       "      <td>42.000000</td>\n",
       "      <td>42.000000</td>\n",
       "      <td>42.000000</td>\n",
       "      <td>42.000000</td>\n",
       "      <td>42.000000</td>\n",
       "      <td>42.000000</td>\n",
       "      <td>...</td>\n",
       "      <td>42.000000</td>\n",
       "      <td>42.000000</td>\n",
       "      <td>42.000000</td>\n",
       "      <td>42.000000</td>\n",
       "      <td>42.000000</td>\n",
       "      <td>42.000000</td>\n",
       "      <td>42.000000</td>\n",
       "      <td>42.000000</td>\n",
       "      <td>42.000000</td>\n",
       "      <td>42.0</td>\n",
       "    </tr>\n",
       "    <tr>\n",
       "      <th>mean</th>\n",
       "      <td>337.095238</td>\n",
       "      <td>4.166667</td>\n",
       "      <td>9972.238095</td>\n",
       "      <td>-97.341667</td>\n",
       "      <td>0.146181</td>\n",
       "      <td>0.077684</td>\n",
       "      <td>0.027499</td>\n",
       "      <td>0.263204</td>\n",
       "      <td>0.376367</td>\n",
       "      <td>0.259941</td>\n",
       "      <td>...</td>\n",
       "      <td>0.255212</td>\n",
       "      <td>0.543695</td>\n",
       "      <td>0.153474</td>\n",
       "      <td>-389.366667</td>\n",
       "      <td>-5.169081</td>\n",
       "      <td>0.553012</td>\n",
       "      <td>0.785714</td>\n",
       "      <td>0.190476</td>\n",
       "      <td>0.738095</td>\n",
       "      <td>1.0</td>\n",
       "    </tr>\n",
       "    <tr>\n",
       "      <th>std</th>\n",
       "      <td>173.172804</td>\n",
       "      <td>6.144268</td>\n",
       "      <td>7269.135490</td>\n",
       "      <td>166.884015</td>\n",
       "      <td>0.041535</td>\n",
       "      <td>0.024901</td>\n",
       "      <td>0.009520</td>\n",
       "      <td>0.060485</td>\n",
       "      <td>0.040545</td>\n",
       "      <td>0.039031</td>\n",
       "      <td>...</td>\n",
       "      <td>0.194148</td>\n",
       "      <td>0.229516</td>\n",
       "      <td>0.139938</td>\n",
       "      <td>667.536061</td>\n",
       "      <td>8.167140</td>\n",
       "      <td>0.169356</td>\n",
       "      <td>0.415300</td>\n",
       "      <td>0.397437</td>\n",
       "      <td>0.445001</td>\n",
       "      <td>0.0</td>\n",
       "    </tr>\n",
       "    <tr>\n",
       "      <th>min</th>\n",
       "      <td>5.000000</td>\n",
       "      <td>1.000000</td>\n",
       "      <td>5146.000000</td>\n",
       "      <td>-454.800000</td>\n",
       "      <td>0.064797</td>\n",
       "      <td>0.026692</td>\n",
       "      <td>0.006947</td>\n",
       "      <td>0.158392</td>\n",
       "      <td>0.304171</td>\n",
       "      <td>0.184375</td>\n",
       "      <td>...</td>\n",
       "      <td>0.000000</td>\n",
       "      <td>0.000000</td>\n",
       "      <td>0.000000</td>\n",
       "      <td>-1819.200000</td>\n",
       "      <td>-21.843652</td>\n",
       "      <td>0.195585</td>\n",
       "      <td>0.000000</td>\n",
       "      <td>0.000000</td>\n",
       "      <td>0.000000</td>\n",
       "      <td>1.0</td>\n",
       "    </tr>\n",
       "    <tr>\n",
       "      <th>25%</th>\n",
       "      <td>217.500000</td>\n",
       "      <td>1.250000</td>\n",
       "      <td>6184.750000</td>\n",
       "      <td>-205.077500</td>\n",
       "      <td>0.119973</td>\n",
       "      <td>0.062640</td>\n",
       "      <td>0.022833</td>\n",
       "      <td>0.231558</td>\n",
       "      <td>0.355910</td>\n",
       "      <td>0.236805</td>\n",
       "      <td>...</td>\n",
       "      <td>0.078571</td>\n",
       "      <td>0.428571</td>\n",
       "      <td>0.013889</td>\n",
       "      <td>-820.310000</td>\n",
       "      <td>-10.742560</td>\n",
       "      <td>0.452137</td>\n",
       "      <td>1.000000</td>\n",
       "      <td>0.000000</td>\n",
       "      <td>0.250000</td>\n",
       "      <td>1.0</td>\n",
       "    </tr>\n",
       "    <tr>\n",
       "      <th>50%</th>\n",
       "      <td>364.500000</td>\n",
       "      <td>2.000000</td>\n",
       "      <td>7370.500000</td>\n",
       "      <td>-92.390000</td>\n",
       "      <td>0.131770</td>\n",
       "      <td>0.075360</td>\n",
       "      <td>0.028124</td>\n",
       "      <td>0.257164</td>\n",
       "      <td>0.376729</td>\n",
       "      <td>0.260936</td>\n",
       "      <td>...</td>\n",
       "      <td>0.240385</td>\n",
       "      <td>0.500000</td>\n",
       "      <td>0.129167</td>\n",
       "      <td>-369.560000</td>\n",
       "      <td>-3.966417</td>\n",
       "      <td>0.550316</td>\n",
       "      <td>1.000000</td>\n",
       "      <td>0.000000</td>\n",
       "      <td>1.000000</td>\n",
       "      <td>1.0</td>\n",
       "    </tr>\n",
       "    <tr>\n",
       "      <th>75%</th>\n",
       "      <td>474.750000</td>\n",
       "      <td>2.000000</td>\n",
       "      <td>9955.750000</td>\n",
       "      <td>-31.632500</td>\n",
       "      <td>0.181387</td>\n",
       "      <td>0.095399</td>\n",
       "      <td>0.034157</td>\n",
       "      <td>0.295785</td>\n",
       "      <td>0.397145</td>\n",
       "      <td>0.279527</td>\n",
       "      <td>...</td>\n",
       "      <td>0.412500</td>\n",
       "      <td>0.724026</td>\n",
       "      <td>0.243056</td>\n",
       "      <td>-126.530000</td>\n",
       "      <td>-1.254020</td>\n",
       "      <td>0.710329</td>\n",
       "      <td>1.000000</td>\n",
       "      <td>0.000000</td>\n",
       "      <td>1.000000</td>\n",
       "      <td>1.0</td>\n",
       "    </tr>\n",
       "    <tr>\n",
       "      <th>max</th>\n",
       "      <td>596.000000</td>\n",
       "      <td>19.000000</td>\n",
       "      <td>43197.000000</td>\n",
       "      <td>401.030000</td>\n",
       "      <td>0.241992</td>\n",
       "      <td>0.137724</td>\n",
       "      <td>0.047573</td>\n",
       "      <td>0.435256</td>\n",
       "      <td>0.485477</td>\n",
       "      <td>0.355166</td>\n",
       "      <td>...</td>\n",
       "      <td>0.666667</td>\n",
       "      <td>1.000000</td>\n",
       "      <td>0.500000</td>\n",
       "      <td>1604.120000</td>\n",
       "      <td>16.622551</td>\n",
       "      <td>0.786047</td>\n",
       "      <td>1.000000</td>\n",
       "      <td>1.000000</td>\n",
       "      <td>1.000000</td>\n",
       "      <td>1.0</td>\n",
       "    </tr>\n",
       "  </tbody>\n",
       "</table>\n",
       "<p>8 rows × 36 columns</p>\n",
       "</div>"
      ],
      "text/plain": [
       "       Unnamed: 0       Site         Hands     Net.Won      VP.IP        PFR  \\\n",
       "count   42.000000  42.000000     42.000000   42.000000  42.000000  42.000000   \n",
       "mean   337.095238   4.166667   9972.238095  -97.341667   0.146181   0.077684   \n",
       "std    173.172804   6.144268   7269.135490  166.884015   0.041535   0.024901   \n",
       "min      5.000000   1.000000   5146.000000 -454.800000   0.064797   0.026692   \n",
       "25%    217.500000   1.250000   6184.750000 -205.077500   0.119973   0.062640   \n",
       "50%    364.500000   2.000000   7370.500000  -92.390000   0.131770   0.075360   \n",
       "75%    474.750000   2.000000   9955.750000  -31.632500   0.181387   0.095399   \n",
       "max    596.000000  19.000000  43197.000000  401.030000   0.241992   0.137724   \n",
       "\n",
       "           X3Bet  Postflop.Agg.     W.WSF.      WTSD.     ...       \\\n",
       "count  42.000000      42.000000  42.000000  42.000000     ...        \n",
       "mean    0.027499       0.263204   0.376367   0.259941     ...        \n",
       "std     0.009520       0.060485   0.040545   0.039031     ...        \n",
       "min     0.006947       0.158392   0.304171   0.184375     ...        \n",
       "25%     0.022833       0.231558   0.355910   0.236805     ...        \n",
       "50%     0.028124       0.257164   0.376729   0.260936     ...        \n",
       "75%     0.034157       0.295785   0.397145   0.279527     ...        \n",
       "max     0.047573       0.435256   0.485477   0.355166     ...        \n",
       "\n",
       "       vs.4Bet.Fold  vs.4Bet.Call  vs.4Bet.Raise       bb_won  bb_won_per100h  \\\n",
       "count     42.000000     42.000000      42.000000    42.000000       42.000000   \n",
       "mean       0.255212      0.543695       0.153474  -389.366667       -5.169081   \n",
       "std        0.194148      0.229516       0.139938   667.536061        8.167140   \n",
       "min        0.000000      0.000000       0.000000 -1819.200000      -21.843652   \n",
       "25%        0.078571      0.428571       0.013889  -820.310000      -10.742560   \n",
       "50%        0.240385      0.500000       0.129167  -369.560000       -3.966417   \n",
       "75%        0.412500      0.724026       0.243056  -126.530000       -1.254020   \n",
       "max        0.666667      1.000000       0.500000  1604.120000       16.622551   \n",
       "\n",
       "        pfr_rate  bad_player  agg_player       Fish  predictions  \n",
       "count  42.000000   42.000000   42.000000  42.000000         42.0  \n",
       "mean    0.553012    0.785714    0.190476   0.738095          1.0  \n",
       "std     0.169356    0.415300    0.397437   0.445001          0.0  \n",
       "min     0.195585    0.000000    0.000000   0.000000          1.0  \n",
       "25%     0.452137    1.000000    0.000000   0.250000          1.0  \n",
       "50%     0.550316    1.000000    0.000000   1.000000          1.0  \n",
       "75%     0.710329    1.000000    0.000000   1.000000          1.0  \n",
       "max     0.786047    1.000000    1.000000   1.000000          1.0  \n",
       "\n",
       "[8 rows x 36 columns]"
      ]
     },
     "execution_count": 63,
     "metadata": {},
     "output_type": "execute_result"
    }
   ],
   "source": [
    "df_fish.describe()"
   ]
  },
  {
   "cell_type": "code",
   "execution_count": 64,
   "metadata": {
    "collapsed": false
   },
   "outputs": [],
   "source": [
    "list1 = ['Fold.to.Flop.Cbet','Raise.Flop.Cbet','Squeeze','vs.3Bet.Fold','bb_won_per100h']\n",
    "for l in list1:\n",
    "    attributes.append(l)"
   ]
  },
  {
   "cell_type": "code",
   "execution_count": 65,
   "metadata": {
    "collapsed": false
   },
   "outputs": [
    {
     "name": "stdout",
     "output_type": "stream",
     "text": [
      "['VP.IP', 'PFR', 'X3Bet', 'Postflop.Agg.', 'W.WSF.', 'WTSD.', 'Won...at.SD', 'Flop.CBet.', 'vs.3Bet.Fold', 'pfr_rate', 'Fold.to.Flop.Cbet', 'Raise.Flop.Cbet', 'Squeeze', 'vs.3Bet.Fold', 'bb_won_per100h']\n"
     ]
    }
   ],
   "source": [
    "print(attributes)"
   ]
  },
  {
   "cell_type": "code",
   "execution_count": 75,
   "metadata": {
    "collapsed": false
   },
   "outputs": [],
   "source": [
    "from sklearn.cluster import KMeans\n",
    "km = KMeans(n_clusters=6, random_state=1)\n",
    "km.fit_transform(df[attributes])\n",
    "labels = km.labels_"
   ]
  },
  {
   "cell_type": "code",
   "execution_count": 76,
   "metadata": {
    "collapsed": false
   },
   "outputs": [
    {
     "name": "stdout",
     "output_type": "stream",
     "text": [
      "[3 0 3 0 0 1 0 3 1 2 0 2 3 2 3 3 3 0 3 0 2 3 0 2 3 3 3 3 0 3 3 0 1 3 2 1 0\n",
      " 3 1 0 2 3 3 1 1 0 3 1 2 3 1 3 3 0 3 3 3 0 3 0 2 0 3 0 3 0 0 0 1 1 1 2 0 3\n",
      " 0 3 2 0 3 3 2 3 0 3 2 0 0 0 1 3 3 1 3 3 0 0 3 2 3 0 3 3 0 3 2 3 2 2 3 0 3\n",
      " 1 2 0 3 0 0 3 1 0 1 1 1 3 2 0 4 3 1 0 3 3 3 0 0 3 3 0 3 3 1 0 0 3 0 2 3 0\n",
      " 3 0 1 1 3 3 2 0 5 2 2 3 3 3 2 0 3 4 0 1 0 3 0 0 3 2 0 3 2 0 0 0 1 0 0 3 3\n",
      " 3 1 2 0 2 2 1 0 3 0 0 3 0 2 0 5 5 3 1 3 3 3 0 2 0 3 3 1 3 3 3 0 0 2 2 3 3\n",
      " 1 4 1 3 2 1 0 0 0 1 1 3 0 1 3 3 3 1 0 2 1 0 2 1 3 2 3 4 3 2 3 3 1 0 2 3 3\n",
      " 3 1 3 3 2 0 3 3 3 0 5 3 1 2 0 4 0 1 0 3 0 3 0 2 2 2 5 2 3 3 2 3 1 3 0 3 3\n",
      " 0 0 2 3 3 2 1 3 4 3 1 0 2 4 0 0 3 2 0 0 3 1 0 1 4 2 0 1 1 3 3 2 0 0 2 0 0\n",
      " 1 3 5 2 3 3 2 3 3 1 2 2 3 2 0 1 1 2 1 5 3 1 3 2 3 2 2 0 0 0 2 2 3 3 1 1 1\n",
      " 5 3 1 3 0 4 3 3 4 0 0 1 1 1 5 1 0 1 3 1 3 0 0 0 2 1 1 0 3 1 3 1 0 1 2 2 2\n",
      " 0 0 4 1 1 2 2 0 0 3 4 1 2 3 3 0 2 2 0 2 1 4 0 4 1 3 2 4 0 2 3 2 5 3 0 5 1\n",
      " 2 5 3 2 0 0 0 3 4 5 1 1 3 3 4 0 3 2 0 3 3 3 3 0 0 1 5 2 0 4 4 2 1 4 0 1 0\n",
      " 1 2 1 2 2 5 3 1 1 3 3 1 3 3 3 1 3 3 4 1 1 0 0 0 0 3 3 1 3 1 0 2 4 4 2 3 3\n",
      " 3 1 3 0 0 3 2 3 2 2 4 5 2 5 1 0 5 3 1 4 3 0 2 3 3 4 3 3 0 3 2 1 3 4 2 1 3\n",
      " 0 0 0 0 0 2 1 0 0 0 0 2 0 1 4 1 0 3 0 3 1 3 5 4 2 2 5 2 3 3 1 1 3 4 0 3 0\n",
      " 0 0 1 3 5 3 0 2 5 3 2 2 0 4 3 2 0 3 3 0 3]\n"
     ]
    }
   ],
   "source": [
    "print(labels)"
   ]
  },
  {
   "cell_type": "code",
   "execution_count": 77,
   "metadata": {
    "collapsed": true
   },
   "outputs": [],
   "source": [
    "df['labels'] = labels"
   ]
  },
  {
   "cell_type": "code",
   "execution_count": 78,
   "metadata": {
    "collapsed": false
   },
   "outputs": [],
   "source": [
    "df_kmfish = df[df['Fish'] == 1]"
   ]
  },
  {
   "cell_type": "code",
   "execution_count": 79,
   "metadata": {
    "collapsed": false
   },
   "outputs": [
    {
     "name": "stdout",
     "output_type": "stream",
     "text": [
      "5      1\n",
      "8      1\n",
      "16     3\n",
      "27     3\n",
      "38     1\n",
      "42     3\n",
      "47     1\n",
      "50     1\n",
      "69     1\n",
      "81     3\n",
      "88     1\n",
      "93     3\n",
      "96     3\n",
      "100    3\n",
      "118    1\n",
      "120    1\n",
      "121    1\n",
      "127    3\n",
      "130    3\n",
      "132    3\n",
      "139    3\n",
      "148    3\n",
      "151    1\n",
      "153    3\n",
      "164    3\n",
      "185    3\n",
      "186    1\n",
      "191    1\n",
      "215    3\n",
      "221    3\n",
      "      ..\n",
      "417    4\n",
      "431    1\n",
      "434    4\n",
      "437    3\n",
      "443    1\n",
      "451    3\n",
      "452    4\n",
      "458    4\n",
      "469    1\n",
      "473    4\n",
      "474    4\n",
      "476    1\n",
      "488    1\n",
      "489    1\n",
      "492    1\n",
      "496    1\n",
      "499    4\n",
      "510    1\n",
      "517    3\n",
      "519    1\n",
      "543    4\n",
      "551    4\n",
      "553    1\n",
      "568    1\n",
      "570    1\n",
      "575    1\n",
      "586    1\n",
      "594    1\n",
      "595    3\n",
      "605    4\n",
      "Name: labels, dtype: int32\n"
     ]
    }
   ],
   "source": [
    "print(df_kmfish['labels'])"
   ]
  }
 ],
 "metadata": {
  "anaconda-cloud": {},
  "kernelspec": {
   "display_name": "Python [conda root]",
   "language": "python",
   "name": "conda-root-py"
  },
  "language_info": {
   "codemirror_mode": {
    "name": "ipython",
    "version": 3
   },
   "file_extension": ".py",
   "mimetype": "text/x-python",
   "name": "python",
   "nbconvert_exporter": "python",
   "pygments_lexer": "ipython3",
   "version": "3.5.2"
  }
 },
 "nbformat": 4,
 "nbformat_minor": 1
}
